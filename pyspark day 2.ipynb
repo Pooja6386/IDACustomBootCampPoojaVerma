{
 "cells": [
  {
   "cell_type": "code",
   "execution_count": 1,
   "id": "29c6e8c8",
   "metadata": {},
   "outputs": [
    {
     "name": "stderr",
     "output_type": "stream",
     "text": [
      "Setting default log level to \"WARN\".\n",
      "To adjust logging level use sc.setLogLevel(newLevel). For SparkR, use setLogLevel(newLevel).\n",
      "23/09/22 08:40:48 WARN NativeCodeLoader: Unable to load native-hadoop library for your platform... using builtin-java classes where applicable\n",
      "23/09/22 08:40:49 WARN Utils: Service 'SparkUI' could not bind on port 4040. Attempting port 4041.\n"
     ]
    }
   ],
   "source": [
    "import findspark\n",
    "findspark.init()\n",
    "from pyspark.sql import SparkSession\n",
    "#Initilize Sparksession\n",
    "spark = SparkSession.builder.appName(\"WordCount\").getOrCreate()"
   ]
  },
  {
   "cell_type": "code",
   "execution_count": 2,
   "id": "5c5f4018",
   "metadata": {},
   "outputs": [],
   "source": [
    "sc=spark.sparkContext"
   ]
  },
  {
   "cell_type": "code",
   "execution_count": 7,
   "id": "e4c786a9",
   "metadata": {},
   "outputs": [
    {
     "name": "stderr",
     "output_type": "stream",
     "text": [
      "                                                                                \r"
     ]
    }
   ],
   "source": [
    "customerdf=spark.read.option(\"inferSchema\", True).option(\"header\", True).option(\"sep\",'\\t').csv(\"/home/labuser/Documents/Retail_Dataset/customer.csv\")\n",
    "lineitemdf=spark.read.option(\"inferSchema\", True).option(\"header\", True).option(\"sep\",'\\t').csv(\"/home/labuser/Documents/Retail_Dataset/lineitem.csv\")\n",
    "nationdf=spark.read.option(\"inferSchema\", True).option(\"header\", True).option(\"sep\",'\\t').csv(\"/home/labuser/Documents/Retail_Dataset/nation.csv\")\n",
    "ordersdf=spark.read.option(\"inferSchema\", True).option(\"header\", True).option(\"sep\",'\\t').csv(\"/home/labuser/Documents/Retail_Dataset/orders.csv\")\n",
    "partdf=spark.read.option(\"inferSchema\", True).option(\"header\", True).option(\"sep\",'\\t').csv(\"/home/labuser/Documents/Retail_Dataset/part.csv\")\n",
    "partsuppdf=spark.read.option(\"inferSchema\", True).option(\"header\", True).option(\"sep\",'\\t').csv(\"/home/labuser/Documents/Retail_Dataset/partsupp.csv\")\n",
    "regiondf=spark.read.option(\"inferSchema\", True).option(\"header\", True).option(\"sep\",'\\t').csv(\"/home/labuser/Documents/Retail_Dataset/region.csv\")\n",
    "supplierdf=spark.read.option(\"inferSchema\", True).option(\"header\", True).option(\"sep\",'\\t').csv(\"/home/labuser/Documents/Retail_Dataset/supplier.csv\")"
   ]
  },
  {
   "cell_type": "code",
   "execution_count": 8,
   "id": "264d7d3d",
   "metadata": {},
   "outputs": [
    {
     "name": "stdout",
     "output_type": "stream",
     "text": [
      "root\n",
      " |-- C_CUSTKEY: integer (nullable = true)\n",
      " |-- C_NAME: string (nullable = true)\n",
      " |-- C_ADDRESS: string (nullable = true)\n",
      " |-- C_NATIONKEY: integer (nullable = true)\n",
      " |-- C_PHONE: string (nullable = true)\n",
      " |-- C_ACCTBAL: double (nullable = true)\n",
      " |-- C_MKTSEGMENT: string (nullable = true)\n",
      " |-- C_COMMENT: string (nullable = true)\n",
      "\n"
     ]
    }
   ],
   "source": [
    "customerdf.printSchema()"
   ]
  },
  {
   "cell_type": "code",
   "execution_count": 9,
   "id": "5eb0a0d5",
   "metadata": {},
   "outputs": [
    {
     "name": "stdout",
     "output_type": "stream",
     "text": [
      "root\n",
      " |-- L_ORDERKEY: integer (nullable = true)\n",
      " |-- L_PARTKEY: integer (nullable = true)\n",
      " |-- L_SUPPKEY: integer (nullable = true)\n",
      " |-- L_LINENUMBER: integer (nullable = true)\n",
      " |-- L_QUANTITY: double (nullable = true)\n",
      " |-- L_EXTENDEDPRICE: double (nullable = true)\n",
      " |-- L_DISCOUNT: double (nullable = true)\n",
      " |-- L_TAX: double (nullable = true)\n",
      " |-- L_RETURNFLAG: string (nullable = true)\n",
      " |-- L_LINESTATUS: string (nullable = true)\n",
      " |-- L_SHIPDATE: date (nullable = true)\n",
      " |-- L_COMMITDATE: date (nullable = true)\n",
      " |-- L_RECEIPTDATE: date (nullable = true)\n",
      " |-- L_SHIPINSTRUCT: string (nullable = true)\n",
      " |-- L_SHIPMODE: string (nullable = true)\n",
      " |-- L_COMMENT: string (nullable = true)\n",
      "\n"
     ]
    }
   ],
   "source": [
    "lineitemdf.printSchema()"
   ]
  },
  {
   "cell_type": "code",
   "execution_count": 10,
   "id": "560dbf97",
   "metadata": {},
   "outputs": [
    {
     "name": "stdout",
     "output_type": "stream",
     "text": [
      "root\n",
      " |-- N_NATIONKEY: integer (nullable = true)\n",
      " |-- N_NAME: string (nullable = true)\n",
      " |-- N_REGIONKEY: integer (nullable = true)\n",
      " |-- N_COMMENT: string (nullable = true)\n",
      "\n"
     ]
    }
   ],
   "source": [
    "nationdf.printSchema()"
   ]
  },
  {
   "cell_type": "code",
   "execution_count": 11,
   "id": "74eb3d72",
   "metadata": {},
   "outputs": [
    {
     "name": "stdout",
     "output_type": "stream",
     "text": [
      "root\n",
      " |-- O_ORDERKEY: integer (nullable = true)\n",
      " |-- O_CUSTKEY: integer (nullable = true)\n",
      " |-- O_ORDERSTATUS: string (nullable = true)\n",
      " |-- O_TOTALPRICE: double (nullable = true)\n",
      " |-- O_ORDERDATE: date (nullable = true)\n",
      " |-- O_ORDERPRIORITY: string (nullable = true)\n",
      " |-- O_CLERK: string (nullable = true)\n",
      " |-- O_SHIPPRIORITY: integer (nullable = true)\n",
      " |-- O_COMMENT: string (nullable = true)\n",
      "\n"
     ]
    }
   ],
   "source": [
    "ordersdf.printSchema()"
   ]
  },
  {
   "cell_type": "code",
   "execution_count": 36,
   "id": "b1e328c1",
   "metadata": {},
   "outputs": [],
   "source": [
    "joindf = customerdf.join(ordersdf, customerdf.C_CUSTKEY == ordersdf.O_CUSTKEY, how=\"inner\"). \\\n",
    "join(lineitemdf, ordersdf.O_ORDERKEY == lineitemdf.L_ORDERKEY, how=\"inner\"). \\\n",
    "select(customerdf[\"*\"],ordersdf[\"O_ORDERKEY\"], ordersdf[\"O_ORDERSTATUS\"], ordersdf[\"O_TOTALPRICE\"], ordersdf[\"O_ORDERDATE\"], \\\n",
    "       lineitemdf[\"L_LINENUMBER\"],lineitemdf[\"L_QUANTITY\"])\n"
   ]
  },
  {
   "cell_type": "code",
   "execution_count": 37,
   "id": "3b81e19c",
   "metadata": {},
   "outputs": [
    {
     "name": "stdout",
     "output_type": "stream",
     "text": [
      "+---------+------------------+----------+-----------+---------------+---------+------------+--------------------+----------+-------------+------------+-----------+------------+----------+\n",
      "|C_CUSTKEY|            C_NAME| C_ADDRESS|C_NATIONKEY|        C_PHONE|C_ACCTBAL|C_MKTSEGMENT|           C_COMMENT|O_ORDERKEY|O_ORDERSTATUS|O_TOTALPRICE|O_ORDERDATE|L_LINENUMBER|L_QUANTITY|\n",
      "+---------+------------------+----------+-----------+---------------+---------+------------+--------------------+----------+-------------+------------+-----------+------------+----------+\n",
      "|      370|Customer#000000370|oyAPndV IN|         12|22-524-280-8721|  8982.79|   FURNITURE|ges. final packag...|         1|            O|   172799.49| 1996-01-02|           6|      32.0|\n",
      "|      370|Customer#000000370|oyAPndV IN|         12|22-524-280-8721|  8982.79|   FURNITURE|ges. final packag...|         1|            O|   172799.49| 1996-01-02|           5|      24.0|\n",
      "+---------+------------------+----------+-----------+---------------+---------+------------+--------------------+----------+-------------+------------+-----------+------------+----------+\n",
      "only showing top 2 rows\n",
      "\n"
     ]
    }
   ],
   "source": [
    "joindf.show(2)"
   ]
  },
  {
   "cell_type": "code",
   "execution_count": 14,
   "id": "fa294a7f",
   "metadata": {},
   "outputs": [],
   "source": [
    "grpdf = ordersdf.groupBy(\"O_CLERK\").sum(\"O_TOTALPRICE\")"
   ]
  },
  {
   "cell_type": "code",
   "execution_count": 15,
   "id": "ea669dc4",
   "metadata": {},
   "outputs": [
    {
     "name": "stderr",
     "output_type": "stream",
     "text": [
      "\r",
      "[Stage 18:>                                                         (0 + 1) / 1]\r"
     ]
    },
    {
     "name": "stdout",
     "output_type": "stream",
     "text": [
      "+---------------+------------------+\n",
      "|        O_CLERK| sum(O_TOTALPRICE)|\n",
      "+---------------+------------------+\n",
      "|Clerk#000000024|        2078084.41|\n",
      "|Clerk#000000288|        1431028.03|\n",
      "|Clerk#000000236|        2571896.97|\n",
      "|Clerk#000000093|3388791.1500000004|\n",
      "|Clerk#000000124|        1683034.58|\n",
      "|Clerk#000000011|2032237.1699999995|\n",
      "|Clerk#000000114|1596777.3599999999|\n",
      "|Clerk#000000022|         1250757.7|\n",
      "|Clerk#000000474|1669808.3399999999|\n",
      "|Clerk#000000723| 923212.7899999999|\n",
      "|Clerk#000000903|2984974.0700000008|\n",
      "|Clerk#000000398|        1799587.31|\n",
      "|Clerk#000000744|         2078169.2|\n",
      "|Clerk#000000912|1728371.5500000005|\n",
      "|Clerk#000000644|         2357482.5|\n",
      "|Clerk#000000766|        1941942.28|\n",
      "|Clerk#000000674|         941649.11|\n",
      "|Clerk#000000821|2854880.0399999996|\n",
      "|Clerk#000000424|1509396.7800000003|\n",
      "|Clerk#000000087|        1396516.85|\n",
      "+---------------+------------------+\n",
      "only showing top 20 rows\n",
      "\n"
     ]
    },
    {
     "name": "stderr",
     "output_type": "stream",
     "text": [
      "\r",
      "                                                                                \r"
     ]
    }
   ],
   "source": [
    "grpdf.show()"
   ]
  },
  {
   "cell_type": "code",
   "execution_count": 38,
   "id": "6205393f",
   "metadata": {},
   "outputs": [],
   "source": [
    "test = joindf.repartition(8)"
   ]
  },
  {
   "cell_type": "code",
   "execution_count": 39,
   "id": "9d42f9d8",
   "metadata": {},
   "outputs": [
    {
     "name": "stderr",
     "output_type": "stream",
     "text": [
      "\r",
      "[Stage 32:>                                                         (0 + 1) / 1]\r"
     ]
    },
    {
     "data": {
      "text/plain": [
       "8"
      ]
     },
     "execution_count": 39,
     "metadata": {},
     "output_type": "execute_result"
    }
   ],
   "source": [
    "test.rdd.getNumPartitions()"
   ]
  },
  {
   "cell_type": "code",
   "execution_count": 40,
   "id": "bb0e0c6b",
   "metadata": {},
   "outputs": [
    {
     "name": "stderr",
     "output_type": "stream",
     "text": [
      "                                                                                \r"
     ]
    }
   ],
   "source": [
    "test.coalesce(1).write.mode(\"append\").parquet(\"/home/labuser/Documents/output\")"
   ]
  },
  {
   "cell_type": "code",
   "execution_count": null,
   "id": "9b27d38a",
   "metadata": {},
   "outputs": [],
   "source": []
  }
 ],
 "metadata": {
  "kernelspec": {
   "display_name": "Python 3 (ipykernel)",
   "language": "python",
   "name": "python3"
  },
  "language_info": {
   "codemirror_mode": {
    "name": "ipython",
    "version": 3
   },
   "file_extension": ".py",
   "mimetype": "text/x-python",
   "name": "python",
   "nbconvert_exporter": "python",
   "pygments_lexer": "ipython3",
   "version": "3.11.4"
  }
 },
 "nbformat": 4,
 "nbformat_minor": 5
}
