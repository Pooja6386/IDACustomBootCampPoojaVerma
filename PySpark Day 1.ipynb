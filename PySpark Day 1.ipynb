{
 "cells": [
  {
   "cell_type": "code",
   "execution_count": 1,
   "id": "63855201",
   "metadata": {},
   "outputs": [],
   "source": [
    "import findspark"
   ]
  },
  {
   "cell_type": "code",
   "execution_count": 2,
   "id": "9e77f487",
   "metadata": {},
   "outputs": [],
   "source": [
    "findspark.init()"
   ]
  },
  {
   "cell_type": "code",
   "execution_count": 3,
   "id": "02edf046",
   "metadata": {},
   "outputs": [
    {
     "name": "stderr",
     "output_type": "stream",
     "text": [
      "Setting default log level to \"WARN\".\n",
      "To adjust logging level use sc.setLogLevel(newLevel). For SparkR, use setLogLevel(newLevel).\n",
      "23/09/22 03:45:42 WARN NativeCodeLoader: Unable to load native-hadoop library for your platform... using builtin-java classes where applicable\n"
     ]
    }
   ],
   "source": [
    "from pyspark.sql import SparkSession\n",
    "#Initilize Sparksession\n",
    "spark = SparkSession.builder.appName(\"WordCount\").getOrCreate()"
   ]
  },
  {
   "cell_type": "code",
   "execution_count": 4,
   "id": "26f6c620",
   "metadata": {},
   "outputs": [],
   "source": [
    "rdd=spark.sparkContext.parallelize([1,2,3,4])"
   ]
  },
  {
   "cell_type": "code",
   "execution_count": 5,
   "id": "3edb0782",
   "metadata": {},
   "outputs": [
    {
     "name": "stderr",
     "output_type": "stream",
     "text": [
      "                                                                                \r"
     ]
    },
    {
     "data": {
      "text/plain": [
       "[1, 2, 3, 4]"
      ]
     },
     "execution_count": 5,
     "metadata": {},
     "output_type": "execute_result"
    }
   ],
   "source": [
    "rdd.collect()"
   ]
  },
  {
   "cell_type": "code",
   "execution_count": 6,
   "id": "7f0e48e3",
   "metadata": {},
   "outputs": [],
   "source": [
    "resultrdd = rdd.map(lambda x:x*2)"
   ]
  },
  {
   "cell_type": "code",
   "execution_count": 7,
   "id": "d870417e",
   "metadata": {},
   "outputs": [
    {
     "name": "stderr",
     "output_type": "stream",
     "text": [
      "                                                                                \r"
     ]
    },
    {
     "data": {
      "text/plain": [
       "[2, 4, 6, 8]"
      ]
     },
     "execution_count": 7,
     "metadata": {},
     "output_type": "execute_result"
    }
   ],
   "source": [
    "resultrdd.collect()"
   ]
  },
  {
   "cell_type": "code",
   "execution_count": 8,
   "id": "8e273bc3",
   "metadata": {},
   "outputs": [],
   "source": [
    "rdd1 = spark.sparkContext.parallelize([1,2,3,4,5])"
   ]
  },
  {
   "cell_type": "code",
   "execution_count": 9,
   "id": "78920e4b",
   "metadata": {},
   "outputs": [
    {
     "data": {
      "text/plain": [
       "[1, 2, 2, 4, 3, 6, 4, 8, 5, 10]"
      ]
     },
     "execution_count": 9,
     "metadata": {},
     "output_type": "execute_result"
    }
   ],
   "source": [
    "resultrdd1 = rdd1.flatMap(lambda x:(x,x*2))\n",
    "resultrdd1.collect()"
   ]
  },
  {
   "cell_type": "code",
   "execution_count": 10,
   "id": "ea5a7131",
   "metadata": {},
   "outputs": [],
   "source": [
    "rdd3 = spark.sparkContext.parallelize([1,2,3,4,5,6,7])"
   ]
  },
  {
   "cell_type": "code",
   "execution_count": 11,
   "id": "891b1194",
   "metadata": {},
   "outputs": [
    {
     "data": {
      "text/plain": [
       "[2, 4, 6]"
      ]
     },
     "execution_count": 11,
     "metadata": {},
     "output_type": "execute_result"
    }
   ],
   "source": [
    "resultrdd3=rdd3.filter(lambda x:x % 2==0)\n",
    "resultrdd3.collect()"
   ]
  },
  {
   "cell_type": "code",
   "execution_count": 12,
   "id": "0d2914f6",
   "metadata": {},
   "outputs": [
    {
     "name": "stderr",
     "output_type": "stream",
     "text": [
      "                                                                                \r"
     ]
    },
    {
     "data": {
      "text/plain": [
       "[(2, 3), (1, 8), (3, 4)]"
      ]
     },
     "execution_count": 12,
     "metadata": {},
     "output_type": "execute_result"
    }
   ],
   "source": [
    "rdd4 = spark.sparkContext.parallelize([(1,2),(3,4),(1,6),(2,3)])\n",
    "res4 = rdd4.reduceByKey(lambda x,y : x+y)\n",
    "res4.collect()"
   ]
  },
  {
   "cell_type": "code",
   "execution_count": 13,
   "id": "efedd44e",
   "metadata": {},
   "outputs": [
    {
     "data": {
      "text/plain": [
       "[(2, <pyspark.resultiterable.ResultIterable at 0x7f57bc1cbb50>),\n",
       " (1, <pyspark.resultiterable.ResultIterable at 0x7f57bc1ca610>),\n",
       " (3, <pyspark.resultiterable.ResultIterable at 0x7f57bc1cbcd0>)]"
      ]
     },
     "execution_count": 13,
     "metadata": {},
     "output_type": "execute_result"
    }
   ],
   "source": [
    "rdd5 = spark.sparkContext.parallelize([(1,2),(3,4),(1,6),(2,3)])\n",
    "res5 = rdd5.groupByKey()\n",
    "res5.collect()"
   ]
  },
  {
   "cell_type": "code",
   "execution_count": 14,
   "id": "765143d0",
   "metadata": {},
   "outputs": [
    {
     "name": "stdout",
     "output_type": "stream",
     "text": [
      "Key: 2, Values:[3]\n",
      "Key: 1, Values:[2, 6]\n",
      "Key: 3, Values:[4]\n"
     ]
    }
   ],
   "source": [
    "for key, values in res5.collect():\n",
    "    print(f\"Key: {key}, Values:{list(values)}\")"
   ]
  },
  {
   "cell_type": "code",
   "execution_count": 15,
   "id": "03ed5054",
   "metadata": {},
   "outputs": [
    {
     "name": "stdout",
     "output_type": "stream",
     "text": [
      "this: 1\n",
      "sample: 1\n",
      "text: 1\n",
      "for: 1\n",
      "word: 2\n",
      "is: 1\n",
      "a: 1\n",
      "document: 1\n",
      "count: 2\n",
      "example: 1\n"
     ]
    }
   ],
   "source": [
    "word_list = [\"this\", \"is\", \"a\", \"sample\", \"text\", \"document\", \"for\", \"word\", \"count\", \"example\", \"word\", \"count\"]\n",
    "rdd = spark.sparkContext.parallelize(word_list)\n",
    "words_count = rdd.map(lambda word: (word, 1)).reduceByKey(lambda a,b:a +b)\n",
    "results = words_count.collect()\n",
    "for word, count in results:\n",
    "    print(f\"{word}: {count}\")"
   ]
  },
  {
   "cell_type": "code",
   "execution_count": 16,
   "id": "90fd3738",
   "metadata": {},
   "outputs": [
    {
     "data": {
      "text/plain": [
       "[',apples,oranges', 'June,3,0', 'Robert,2,3', 'Lily,0,7', 'David,1,2']"
      ]
     },
     "execution_count": 16,
     "metadata": {},
     "output_type": "execute_result"
    }
   ],
   "source": [
    "purchaserdd = spark.sparkContext.textFile(\"/home/labuser/Documents/Pandas_datasets/purchases.csv\")\n",
    "purchaserdd.collect()"
   ]
  },
  {
   "cell_type": "code",
   "execution_count": 17,
   "id": "66552f9c",
   "metadata": {},
   "outputs": [],
   "source": [
    "purchasedf=spark.read.csv(\"/home/labuser/Documents/Pandas_datasets/purchases.csv\")"
   ]
  },
  {
   "cell_type": "code",
   "execution_count": 18,
   "id": "ba3a1af5",
   "metadata": {},
   "outputs": [
    {
     "name": "stdout",
     "output_type": "stream",
     "text": [
      "+------+------+-------+\n",
      "|   _c0|   _c1|    _c2|\n",
      "+------+------+-------+\n",
      "|  null|apples|oranges|\n",
      "|  June|     3|      0|\n",
      "|Robert|     2|      3|\n",
      "|  Lily|     0|      7|\n",
      "| David|     1|      2|\n",
      "+------+------+-------+\n",
      "\n"
     ]
    }
   ],
   "source": [
    "purchasedf.show()"
   ]
  },
  {
   "cell_type": "code",
   "execution_count": 19,
   "id": "eecec9ad",
   "metadata": {},
   "outputs": [
    {
     "name": "stdout",
     "output_type": "stream",
     "text": [
      "root\n",
      " |-- _c0: string (nullable = true)\n",
      " |-- _c1: string (nullable = true)\n",
      " |-- _c2: string (nullable = true)\n",
      "\n"
     ]
    }
   ],
   "source": [
    "purchasedf.printSchema()"
   ]
  },
  {
   "cell_type": "code",
   "execution_count": 20,
   "id": "2465dffd",
   "metadata": {},
   "outputs": [
    {
     "name": "stdout",
     "output_type": "stream",
     "text": [
      "+------+------+-------+\n",
      "|   _c0|apples|oranges|\n",
      "+------+------+-------+\n",
      "|  June|     3|      0|\n",
      "|Robert|     2|      3|\n",
      "|  Lily|     0|      7|\n",
      "| David|     1|      2|\n",
      "+------+------+-------+\n",
      "\n"
     ]
    },
    {
     "name": "stderr",
     "output_type": "stream",
     "text": [
      "23/09/22 03:46:13 WARN CSVHeaderChecker: CSV header does not conform to the schema.\n",
      " Header: , apples, oranges\n",
      " Schema: _c0, apples, oranges\n",
      "Expected: _c0 but found: \n",
      "CSV file: file:///home/labuser/Documents/Pandas_datasets/purchases.csv\n"
     ]
    }
   ],
   "source": [
    "purchasedf_01=spark.read.option(\"inferschema\", True).option(\"header\", True).csv(\"/home/labuser/Documents/Pandas_datasets/purchases.csv\")\n",
    "purchasedf_01.show()"
   ]
  },
  {
   "cell_type": "code",
   "execution_count": 21,
   "id": "3ed83f68",
   "metadata": {},
   "outputs": [
    {
     "name": "stdout",
     "output_type": "stream",
     "text": [
      "root\n",
      " |-- _c0: string (nullable = true)\n",
      " |-- apples: integer (nullable = true)\n",
      " |-- oranges: integer (nullable = true)\n",
      "\n"
     ]
    }
   ],
   "source": [
    "purchasedf_01.printSchema()"
   ]
  },
  {
   "cell_type": "code",
   "execution_count": 24,
   "id": "04f2b13f",
   "metadata": {},
   "outputs": [
    {
     "name": "stdout",
     "output_type": "stream",
     "text": [
      "root\n",
      " |-- Rank: integer (nullable = true)\n",
      " |-- Title: string (nullable = true)\n",
      " |-- Genre: string (nullable = true)\n",
      " |-- Description: string (nullable = true)\n",
      " |-- Director: string (nullable = true)\n",
      " |-- Actors: string (nullable = true)\n",
      " |-- Year: string (nullable = true)\n",
      " |-- Runtime (Minutes): string (nullable = true)\n",
      " |-- Rating: string (nullable = true)\n",
      " |-- Votes: string (nullable = true)\n",
      " |-- Revenue (Millions): double (nullable = true)\n",
      " |-- Metascore: double (nullable = true)\n",
      "\n"
     ]
    }
   ],
   "source": [
    "moviedf=spark.read.schema(movieSchema).option(\"header\", True).csv(\"/home/labuser/Documents/Pandas_datasets/IMDB-Movie-Data.csv\")\n",
    "moviedf.printSchema()"
   ]
  },
  {
   "cell_type": "code",
   "execution_count": 23,
   "id": "483eee64",
   "metadata": {},
   "outputs": [],
   "source": [
    "from pyspark.sql.types import StructType, StructField, IntegerType, StringType, DoubleType\n",
    "movieSchema=StructType([StructField(\"Rank\", IntegerType(),True),\n",
    "                        StructField(\"Title\", StringType(),True),\n",
    "                        StructField(\"Genre\", StringType(),True),\n",
    "                        StructField(\"Description\", StringType(),True),\n",
    "                        StructField(\"Director\", StringType(),True),\n",
    "                        StructField(\"Actors\", StringType(),True),\n",
    "                        StructField(\"Year\", StringType(),True),\n",
    "                        StructField(\"Runtime (Minutes)\", StringType(),True),\n",
    "                        StructField(\"Rating\", StringType(),True),\n",
    "                        StructField(\"Votes\", StringType(),True),\n",
    "                        StructField(\"Revenue (Millions)\", DoubleType(),True),\n",
    "                        StructField(\"Metascore\", DoubleType(),True)])"
   ]
  },
  {
   "cell_type": "code",
   "execution_count": 25,
   "id": "6d98e41f",
   "metadata": {},
   "outputs": [
    {
     "name": "stdout",
     "output_type": "stream",
     "text": [
      "+----+--------------------+--------------------+--------------------+--------------------+--------------------+--------------------+-----------------+------+------+------------------+---------+\n",
      "|Rank|               Title|               Genre|         Description|            Director|              Actors|                Year|Runtime (Minutes)|Rating| Votes|Revenue (Millions)|Metascore|\n",
      "+----+--------------------+--------------------+--------------------+--------------------+--------------------+--------------------+-----------------+------+------+------------------+---------+\n",
      "|   1|Guardians of the ...|Action,Adventure,...|A group of interg...|          James Gunn|Chris Pratt, Vin ...|                2014|              121|   8.1|757074|            333.13|     76.0|\n",
      "|   2|          Prometheus|Adventure,Mystery...|Following clues t...|        Ridley Scott|Noomi Rapace, Log...|                2012|              124|     7|485820|            126.46|     65.0|\n",
      "|   3|               Split|     Horror,Thriller|Three girls are k...|  M. Night Shyamalan|James McAvoy, Any...|                2016|              117|   7.3|157606|            138.12|     62.0|\n",
      "|   4|                Sing|Animation,Comedy,...|In a city of huma...|Christophe Lourdelet|Matthew McConaugh...|                2016|              108|   7.2| 60545|            270.32|     59.0|\n",
      "|   5|       Suicide Squad|Action,Adventure,...|A secret governme...|          David Ayer|Will Smith, Jared...|                2016|              123|   6.2|393727|            325.02|     40.0|\n",
      "|   6|      The Great Wall|Action,Adventure,...|European mercenar...|         Yimou Zhang|Matt Damon, Tian ...|                2016|              103|   6.1| 56036|             45.13|     42.0|\n",
      "|   7|          La La Land|  Comedy,Drama,Music|A jazz pianist fa...|     Damien Chazelle|Ryan Gosling, Emm...|                2016|              128|   8.3|258682|            151.06|     93.0|\n",
      "|   8|            Mindhorn|              Comedy|\"A has-been actor...| whom he believes...|          Sean Foley|Essie Davis, Andr...|             2016|    89|   6.4|            2490.0|     null|\n",
      "|   9|  The Lost City of Z|Action,Adventure,...|A true-life drama...|          James Gray|Charlie Hunnam, R...|                2016|              141|   7.1|  7188|              8.01|     78.0|\n",
      "|  10|          Passengers|Adventure,Drama,R...|A spacecraft trav...|       Morten Tyldum|Jennifer Lawrence...|                2016|              116|     7|192177|            100.01|     41.0|\n",
      "|  11|Fantastic Beasts ...|Adventure,Family,...|The adventures of...|         David Yates|Eddie Redmayne, K...|                2016|              133|   7.5|232072|            234.02|     66.0|\n",
      "|  12|      Hidden Figures|Biography,Drama,H...|The story of a te...|      Theodore Melfi|Taraji P. Henson,...|                2016|              127|   7.8| 93103|            169.27|     74.0|\n",
      "|  13|           Rogue One|Action,Adventure,...|The Rebel Allianc...|      Gareth Edwards|Felicity Jones, D...|                2016|              133|   7.9|323118|            532.17|     65.0|\n",
      "|  14|               Moana|Animation,Adventu...|In Ancient Polyne...|        Ron Clements|Auli'i Cravalho, ...|                2016|              107|   7.7|118151|            248.75|     81.0|\n",
      "|  15|            Colossal| Action,Comedy,Drama|Gloria is an out-...|     Nacho Vigalondo|Anne Hathaway, Ja...|                2016|              109|   6.4|  8612|              2.87|     70.0|\n",
      "|  16|The Secret Life o...|Animation,Adventu...|The quiet life of...|        Chris Renaud|Louis C.K., Eric ...|                2016|               87|   6.6|120259|            368.31|     61.0|\n",
      "|  17|       Hacksaw Ridge|Biography,Drama,H...|WWII American Arm...|          Mel Gibson|Andrew Garfield, ...|                2016|              139|   8.2|211760|             67.12|     71.0|\n",
      "|  18|        Jason Bourne|     Action,Thriller|The CIA's most da...|     Paul Greengrass|Matt Damon, Tommy...|                2016|              123|   6.7|150823|            162.16|     58.0|\n",
      "|  19|                Lion|     Biography,Drama|A five-year-old I...|         Garth Davis|Dev Patel, Nicole...|                2016|              118|   8.1|102061|             51.69|     69.0|\n",
      "|  20|             Arrival|Drama,Mystery,Sci-Fi|When twelve myste...|    Denis Villeneuve|Amy Adams, Jeremy...|                2016|              116|     8|340798|             100.5|     81.0|\n",
      "+----+--------------------+--------------------+--------------------+--------------------+--------------------+--------------------+-----------------+------+------+------------------+---------+\n",
      "only showing top 20 rows\n",
      "\n"
     ]
    }
   ],
   "source": [
    "moviedf.show()"
   ]
  },
  {
   "cell_type": "code",
   "execution_count": 26,
   "id": "66cdaffa",
   "metadata": {},
   "outputs": [],
   "source": [
    "from pyspark.sql.functions import *\n",
    "moviedf = moviedf.withColumn(\"rev_col\",col(\"Revenue (Millions)\")*100)"
   ]
  },
  {
   "cell_type": "code",
   "execution_count": 27,
   "id": "dec16b56",
   "metadata": {},
   "outputs": [
    {
     "data": {
      "text/plain": [
       "DataFrame[summary: string, Rank: string, Title: string, Genre: string, Description: string, Director: string, Actors: string, Year: string, Runtime (Minutes): string, Rating: string, Votes: string, Revenue (Millions): string, Metascore: string, rev_col: string]"
      ]
     },
     "execution_count": 27,
     "metadata": {},
     "output_type": "execute_result"
    }
   ],
   "source": [
    "moviedf.describe()"
   ]
  },
  {
   "cell_type": "code",
   "execution_count": 28,
   "id": "b468bcbe",
   "metadata": {},
   "outputs": [
    {
     "name": "stdout",
     "output_type": "stream",
     "text": [
      "+----+--------------------+--------------------+--------------------+--------------------+--------------------+--------------------+-----------------+------+------+------------------+---------+-----------------+\n",
      "|Rank|               Title|               Genre|         Description|            Director|              Actors|                Year|Runtime (Minutes)|Rating| Votes|Revenue (Millions)|Metascore|          rev_col|\n",
      "+----+--------------------+--------------------+--------------------+--------------------+--------------------+--------------------+-----------------+------+------+------------------+---------+-----------------+\n",
      "|   1|Guardians of the ...|Action,Adventure,...|A group of interg...|          James Gunn|Chris Pratt, Vin ...|                2014|              121|   8.1|757074|            333.13|     76.0|          33313.0|\n",
      "|   2|          Prometheus|Adventure,Mystery...|Following clues t...|        Ridley Scott|Noomi Rapace, Log...|                2012|              124|     7|485820|            126.46|     65.0|          12646.0|\n",
      "|   3|               Split|     Horror,Thriller|Three girls are k...|  M. Night Shyamalan|James McAvoy, Any...|                2016|              117|   7.3|157606|            138.12|     62.0|          13812.0|\n",
      "|   4|                Sing|Animation,Comedy,...|In a city of huma...|Christophe Lourdelet|Matthew McConaugh...|                2016|              108|   7.2| 60545|            270.32|     59.0|          27032.0|\n",
      "|   5|       Suicide Squad|Action,Adventure,...|A secret governme...|          David Ayer|Will Smith, Jared...|                2016|              123|   6.2|393727|            325.02|     40.0|          32502.0|\n",
      "|   6|      The Great Wall|Action,Adventure,...|European mercenar...|         Yimou Zhang|Matt Damon, Tian ...|                2016|              103|   6.1| 56036|             45.13|     42.0|           4513.0|\n",
      "|   7|          La La Land|  Comedy,Drama,Music|A jazz pianist fa...|     Damien Chazelle|Ryan Gosling, Emm...|                2016|              128|   8.3|258682|            151.06|     93.0|          15106.0|\n",
      "|   8|            Mindhorn|              Comedy|\"A has-been actor...| whom he believes...|          Sean Foley|Essie Davis, Andr...|             2016|    89|   6.4|            2490.0|     null|         249000.0|\n",
      "|   9|  The Lost City of Z|Action,Adventure,...|A true-life drama...|          James Gray|Charlie Hunnam, R...|                2016|              141|   7.1|  7188|              8.01|     78.0|            801.0|\n",
      "|  10|          Passengers|Adventure,Drama,R...|A spacecraft trav...|       Morten Tyldum|Jennifer Lawrence...|                2016|              116|     7|192177|            100.01|     41.0|          10001.0|\n",
      "|  11|Fantastic Beasts ...|Adventure,Family,...|The adventures of...|         David Yates|Eddie Redmayne, K...|                2016|              133|   7.5|232072|            234.02|     66.0|          23402.0|\n",
      "|  12|      Hidden Figures|Biography,Drama,H...|The story of a te...|      Theodore Melfi|Taraji P. Henson,...|                2016|              127|   7.8| 93103|            169.27|     74.0|          16927.0|\n",
      "|  13|           Rogue One|Action,Adventure,...|The Rebel Allianc...|      Gareth Edwards|Felicity Jones, D...|                2016|              133|   7.9|323118|            532.17|     65.0|53216.99999999999|\n",
      "|  14|               Moana|Animation,Adventu...|In Ancient Polyne...|        Ron Clements|Auli'i Cravalho, ...|                2016|              107|   7.7|118151|            248.75|     81.0|          24875.0|\n",
      "|  15|            Colossal| Action,Comedy,Drama|Gloria is an out-...|     Nacho Vigalondo|Anne Hathaway, Ja...|                2016|              109|   6.4|  8612|              2.87|     70.0|            287.0|\n",
      "|  16|The Secret Life o...|Animation,Adventu...|The quiet life of...|        Chris Renaud|Louis C.K., Eric ...|                2016|               87|   6.6|120259|            368.31|     61.0|          36831.0|\n",
      "|  17|       Hacksaw Ridge|Biography,Drama,H...|WWII American Arm...|          Mel Gibson|Andrew Garfield, ...|                2016|              139|   8.2|211760|             67.12|     71.0|           6712.0|\n",
      "|  18|        Jason Bourne|     Action,Thriller|The CIA's most da...|     Paul Greengrass|Matt Damon, Tommy...|                2016|              123|   6.7|150823|            162.16|     58.0|          16216.0|\n",
      "|  19|                Lion|     Biography,Drama|A five-year-old I...|         Garth Davis|Dev Patel, Nicole...|                2016|              118|   8.1|102061|             51.69|     69.0|           5169.0|\n",
      "|  20|             Arrival|Drama,Mystery,Sci-Fi|When twelve myste...|    Denis Villeneuve|Amy Adams, Jeremy...|                2016|              116|     8|340798|             100.5|     81.0|          10050.0|\n",
      "+----+--------------------+--------------------+--------------------+--------------------+--------------------+--------------------+-----------------+------+------+------------------+---------+-----------------+\n",
      "only showing top 20 rows\n",
      "\n"
     ]
    }
   ],
   "source": [
    "moviedf.show()"
   ]
  },
  {
   "cell_type": "code",
   "execution_count": 29,
   "id": "5fc0c063",
   "metadata": {},
   "outputs": [
    {
     "name": "stdout",
     "output_type": "stream",
     "text": [
      "+----+--------------------+--------------------+--------------------+--------------------+--------------------+--------------------+-----------------+------+------+------------------+---------+-----------------+------+\n",
      "|Rank|               Title|               Genre|         Description|            Director|              Actors|                Year|Runtime (Minutes)|Rating| Votes|Revenue (Millions)|Metascore|          rev_col| Batch|\n",
      "+----+--------------------+--------------------+--------------------+--------------------+--------------------+--------------------+-----------------+------+------+------------------+---------+-----------------+------+\n",
      "|   1|Guardians of the ...|Action,Adventure,...|A group of interg...|          James Gunn|Chris Pratt, Vin ...|                2014|              121|   8.1|757074|            333.13|     76.0|          33313.0|Batch3|\n",
      "|   2|          Prometheus|Adventure,Mystery...|Following clues t...|        Ridley Scott|Noomi Rapace, Log...|                2012|              124|     7|485820|            126.46|     65.0|          12646.0|Batch3|\n",
      "|   3|               Split|     Horror,Thriller|Three girls are k...|  M. Night Shyamalan|James McAvoy, Any...|                2016|              117|   7.3|157606|            138.12|     62.0|          13812.0|Batch3|\n",
      "|   4|                Sing|Animation,Comedy,...|In a city of huma...|Christophe Lourdelet|Matthew McConaugh...|                2016|              108|   7.2| 60545|            270.32|     59.0|          27032.0|Batch3|\n",
      "|   5|       Suicide Squad|Action,Adventure,...|A secret governme...|          David Ayer|Will Smith, Jared...|                2016|              123|   6.2|393727|            325.02|     40.0|          32502.0|Batch3|\n",
      "|   6|      The Great Wall|Action,Adventure,...|European mercenar...|         Yimou Zhang|Matt Damon, Tian ...|                2016|              103|   6.1| 56036|             45.13|     42.0|           4513.0|Batch3|\n",
      "|   7|          La La Land|  Comedy,Drama,Music|A jazz pianist fa...|     Damien Chazelle|Ryan Gosling, Emm...|                2016|              128|   8.3|258682|            151.06|     93.0|          15106.0|Batch3|\n",
      "|   8|            Mindhorn|              Comedy|\"A has-been actor...| whom he believes...|          Sean Foley|Essie Davis, Andr...|             2016|    89|   6.4|            2490.0|     null|         249000.0|Batch3|\n",
      "|   9|  The Lost City of Z|Action,Adventure,...|A true-life drama...|          James Gray|Charlie Hunnam, R...|                2016|              141|   7.1|  7188|              8.01|     78.0|            801.0|Batch3|\n",
      "|  10|          Passengers|Adventure,Drama,R...|A spacecraft trav...|       Morten Tyldum|Jennifer Lawrence...|                2016|              116|     7|192177|            100.01|     41.0|          10001.0|Batch3|\n",
      "|  11|Fantastic Beasts ...|Adventure,Family,...|The adventures of...|         David Yates|Eddie Redmayne, K...|                2016|              133|   7.5|232072|            234.02|     66.0|          23402.0|Batch3|\n",
      "|  12|      Hidden Figures|Biography,Drama,H...|The story of a te...|      Theodore Melfi|Taraji P. Henson,...|                2016|              127|   7.8| 93103|            169.27|     74.0|          16927.0|Batch3|\n",
      "|  13|           Rogue One|Action,Adventure,...|The Rebel Allianc...|      Gareth Edwards|Felicity Jones, D...|                2016|              133|   7.9|323118|            532.17|     65.0|53216.99999999999|Batch3|\n",
      "|  14|               Moana|Animation,Adventu...|In Ancient Polyne...|        Ron Clements|Auli'i Cravalho, ...|                2016|              107|   7.7|118151|            248.75|     81.0|          24875.0|Batch3|\n",
      "|  15|            Colossal| Action,Comedy,Drama|Gloria is an out-...|     Nacho Vigalondo|Anne Hathaway, Ja...|                2016|              109|   6.4|  8612|              2.87|     70.0|            287.0|Batch3|\n",
      "|  16|The Secret Life o...|Animation,Adventu...|The quiet life of...|        Chris Renaud|Louis C.K., Eric ...|                2016|               87|   6.6|120259|            368.31|     61.0|          36831.0|Batch3|\n",
      "|  17|       Hacksaw Ridge|Biography,Drama,H...|WWII American Arm...|          Mel Gibson|Andrew Garfield, ...|                2016|              139|   8.2|211760|             67.12|     71.0|           6712.0|Batch3|\n",
      "|  18|        Jason Bourne|     Action,Thriller|The CIA's most da...|     Paul Greengrass|Matt Damon, Tommy...|                2016|              123|   6.7|150823|            162.16|     58.0|          16216.0|Batch3|\n",
      "|  19|                Lion|     Biography,Drama|A five-year-old I...|         Garth Davis|Dev Patel, Nicole...|                2016|              118|   8.1|102061|             51.69|     69.0|           5169.0|Batch3|\n",
      "|  20|             Arrival|Drama,Mystery,Sci-Fi|When twelve myste...|    Denis Villeneuve|Amy Adams, Jeremy...|                2016|              116|     8|340798|             100.5|     81.0|          10050.0|Batch3|\n",
      "+----+--------------------+--------------------+--------------------+--------------------+--------------------+--------------------+-----------------+------+------+------------------+---------+-----------------+------+\n",
      "only showing top 20 rows\n",
      "\n"
     ]
    }
   ],
   "source": [
    "from pyspark.sql.functions import *\n",
    "moviedf = moviedf.withColumn(\"rev_col\",col(\"Revenue (Millions)\")*100).withColumn(\"Batch\", lit(\"Batch3\"))\n",
    "moviedf.show()"
   ]
  },
  {
   "cell_type": "code",
   "execution_count": 30,
   "id": "3695060e",
   "metadata": {},
   "outputs": [
    {
     "data": {
      "text/plain": [
       "1"
      ]
     },
     "execution_count": 30,
     "metadata": {},
     "output_type": "execute_result"
    }
   ],
   "source": [
    "moviedf.rdd.getNumPartitions()"
   ]
  },
  {
   "cell_type": "code",
   "execution_count": 31,
   "id": "d7afaa11",
   "metadata": {},
   "outputs": [],
   "source": [
    "newdf = moviedf.repartition(10)"
   ]
  },
  {
   "cell_type": "code",
   "execution_count": 33,
   "id": "1c092f9f",
   "metadata": {},
   "outputs": [
    {
     "data": {
      "text/plain": [
       "10"
      ]
     },
     "execution_count": 33,
     "metadata": {},
     "output_type": "execute_result"
    }
   ],
   "source": [
    "newdf.rdd.getNumPartitions()"
   ]
  },
  {
   "cell_type": "code",
   "execution_count": 35,
   "id": "1474f89a",
   "metadata": {},
   "outputs": [
    {
     "name": "stderr",
     "output_type": "stream",
     "text": [
      "                                                                                \r"
     ]
    }
   ],
   "source": [
    "newdf.write.csv('/home/labuser/Documents/test/Partitions')"
   ]
  },
  {
   "cell_type": "code",
   "execution_count": 36,
   "id": "3b0c7b30",
   "metadata": {},
   "outputs": [
    {
     "name": "stdout",
     "output_type": "stream",
     "text": [
      "Spark UI URL: http://ip-172-31-1-230.ap-south-1.compute.internal:4040/\n"
     ]
    }
   ],
   "source": [
    "spark_ui_url = f'{spark._jsc.sc().uiWebUrl().get()}/'\n",
    "print(\"Spark UI URL:\", spark_ui_url)"
   ]
  },
  {
   "cell_type": "code",
   "execution_count": 40,
   "id": "6ba907c2",
   "metadata": {},
   "outputs": [],
   "source": [
    "moviedf.createOrReplaceTempView(\"movie\")"
   ]
  },
  {
   "cell_type": "code",
   "execution_count": 41,
   "id": "f2086880",
   "metadata": {},
   "outputs": [
    {
     "data": {
      "text/plain": [
       "pyspark.sql.dataframe.DataFrame"
      ]
     },
     "execution_count": 41,
     "metadata": {},
     "output_type": "execute_result"
    }
   ],
   "source": [
    "result = spark.sql(\"select * from movie\")\n",
    "type(result)"
   ]
  },
  {
   "cell_type": "code",
   "execution_count": 42,
   "id": "45137a49",
   "metadata": {},
   "outputs": [
    {
     "name": "stdout",
     "output_type": "stream",
     "text": [
      "+----+--------------------+--------------------+--------------------+--------------------+--------------------+--------------------+-----------------+------+------+------------------+---------+-----------------+------+\n",
      "|Rank|               Title|               Genre|         Description|            Director|              Actors|                Year|Runtime (Minutes)|Rating| Votes|Revenue (Millions)|Metascore|          rev_col| Batch|\n",
      "+----+--------------------+--------------------+--------------------+--------------------+--------------------+--------------------+-----------------+------+------+------------------+---------+-----------------+------+\n",
      "|   1|Guardians of the ...|Action,Adventure,...|A group of interg...|          James Gunn|Chris Pratt, Vin ...|                2014|              121|   8.1|757074|            333.13|     76.0|          33313.0|Batch3|\n",
      "|   2|          Prometheus|Adventure,Mystery...|Following clues t...|        Ridley Scott|Noomi Rapace, Log...|                2012|              124|     7|485820|            126.46|     65.0|          12646.0|Batch3|\n",
      "|   3|               Split|     Horror,Thriller|Three girls are k...|  M. Night Shyamalan|James McAvoy, Any...|                2016|              117|   7.3|157606|            138.12|     62.0|          13812.0|Batch3|\n",
      "|   4|                Sing|Animation,Comedy,...|In a city of huma...|Christophe Lourdelet|Matthew McConaugh...|                2016|              108|   7.2| 60545|            270.32|     59.0|          27032.0|Batch3|\n",
      "|   5|       Suicide Squad|Action,Adventure,...|A secret governme...|          David Ayer|Will Smith, Jared...|                2016|              123|   6.2|393727|            325.02|     40.0|          32502.0|Batch3|\n",
      "|   6|      The Great Wall|Action,Adventure,...|European mercenar...|         Yimou Zhang|Matt Damon, Tian ...|                2016|              103|   6.1| 56036|             45.13|     42.0|           4513.0|Batch3|\n",
      "|   7|          La La Land|  Comedy,Drama,Music|A jazz pianist fa...|     Damien Chazelle|Ryan Gosling, Emm...|                2016|              128|   8.3|258682|            151.06|     93.0|          15106.0|Batch3|\n",
      "|   8|            Mindhorn|              Comedy|\"A has-been actor...| whom he believes...|          Sean Foley|Essie Davis, Andr...|             2016|    89|   6.4|            2490.0|     null|         249000.0|Batch3|\n",
      "|   9|  The Lost City of Z|Action,Adventure,...|A true-life drama...|          James Gray|Charlie Hunnam, R...|                2016|              141|   7.1|  7188|              8.01|     78.0|            801.0|Batch3|\n",
      "|  10|          Passengers|Adventure,Drama,R...|A spacecraft trav...|       Morten Tyldum|Jennifer Lawrence...|                2016|              116|     7|192177|            100.01|     41.0|          10001.0|Batch3|\n",
      "|  11|Fantastic Beasts ...|Adventure,Family,...|The adventures of...|         David Yates|Eddie Redmayne, K...|                2016|              133|   7.5|232072|            234.02|     66.0|          23402.0|Batch3|\n",
      "|  12|      Hidden Figures|Biography,Drama,H...|The story of a te...|      Theodore Melfi|Taraji P. Henson,...|                2016|              127|   7.8| 93103|            169.27|     74.0|          16927.0|Batch3|\n",
      "|  13|           Rogue One|Action,Adventure,...|The Rebel Allianc...|      Gareth Edwards|Felicity Jones, D...|                2016|              133|   7.9|323118|            532.17|     65.0|53216.99999999999|Batch3|\n",
      "|  14|               Moana|Animation,Adventu...|In Ancient Polyne...|        Ron Clements|Auli'i Cravalho, ...|                2016|              107|   7.7|118151|            248.75|     81.0|          24875.0|Batch3|\n",
      "|  15|            Colossal| Action,Comedy,Drama|Gloria is an out-...|     Nacho Vigalondo|Anne Hathaway, Ja...|                2016|              109|   6.4|  8612|              2.87|     70.0|            287.0|Batch3|\n",
      "|  16|The Secret Life o...|Animation,Adventu...|The quiet life of...|        Chris Renaud|Louis C.K., Eric ...|                2016|               87|   6.6|120259|            368.31|     61.0|          36831.0|Batch3|\n",
      "|  17|       Hacksaw Ridge|Biography,Drama,H...|WWII American Arm...|          Mel Gibson|Andrew Garfield, ...|                2016|              139|   8.2|211760|             67.12|     71.0|           6712.0|Batch3|\n",
      "|  18|        Jason Bourne|     Action,Thriller|The CIA's most da...|     Paul Greengrass|Matt Damon, Tommy...|                2016|              123|   6.7|150823|            162.16|     58.0|          16216.0|Batch3|\n",
      "|  19|                Lion|     Biography,Drama|A five-year-old I...|         Garth Davis|Dev Patel, Nicole...|                2016|              118|   8.1|102061|             51.69|     69.0|           5169.0|Batch3|\n",
      "|  20|             Arrival|Drama,Mystery,Sci-Fi|When twelve myste...|    Denis Villeneuve|Amy Adams, Jeremy...|                2016|              116|     8|340798|             100.5|     81.0|          10050.0|Batch3|\n",
      "+----+--------------------+--------------------+--------------------+--------------------+--------------------+--------------------+-----------------+------+------+------------------+---------+-----------------+------+\n",
      "only showing top 20 rows\n",
      "\n"
     ]
    }
   ],
   "source": [
    "result.show()"
   ]
  },
  {
   "cell_type": "code",
   "execution_count": 43,
   "id": "2e720578",
   "metadata": {},
   "outputs": [
    {
     "name": "stdout",
     "output_type": "stream",
     "text": [
      "+----+--------------------+--------------------+--------------------+--------------------+--------------------+--------------------+-----------------+------+------+------------------+---------+------------------+------+\n",
      "|Rank|               Title|               Genre|         Description|            Director|              Actors|                Year|Runtime (Minutes)|Rating| Votes|Revenue (Millions)|Metascore|           rev_col| Batch|\n",
      "+----+--------------------+--------------------+--------------------+--------------------+--------------------+--------------------+-----------------+------+------+------------------+---------+------------------+------+\n",
      "|  75|            Zootopia|Animation,Adventu...|In a city of anth...|        Byron Howard|Ginnifer Goodwin,...|                2016|              108|   8.1|296853|            341.26|     78.0|           34126.0|Batch3|\n",
      "| 432|         Zoolander 2|              Comedy|Derek and Hansel ...|         Ben Stiller|Ben Stiller, Owen...|                2016|              102|   4.7| 48297|             28.84|     34.0|            2884.0|Batch3|\n",
      "| 364|          Zombieland|Adventure,Comedy,...|A shy student try...|     Ruben Fleischer|Jesse Eisenberg, ...|                2009|               88|   7.7|409403|             75.59|     73.0|            7559.0|Batch3|\n",
      "| 278|              Zodiac| Crime,Drama,History|In the late 1960s...|       David Fincher|Jake Gyllenhaal, ...|                2007|              157|   7.7|329683|             33.05|     78.0|3304.9999999999995|Batch3|\n",
      "| 545|              Zipper|      Drama,Thriller|A successful fami...|       Mora Stephens|Patrick Wilson, L...|                2015|              103|   5.7|  4912|              null|     39.0|              null|Batch3|\n",
      "| 407|    Zero Dark Thirty|Drama,History,Thr...|A chronicle of th...|     Kathryn Bigelow|Jessica Chastain,...|                2012|              157|   7.4|226661|             95.72|     95.0|            9572.0|Batch3|\n",
      "| 793|Zack and Miri Mak...|      Comedy,Romance|Lifelong platonic...|         Kevin Smith|Seth Rogen, Eliza...|                2008|              101|   6.6|154936|             31.45|     56.0|            3145.0|Batch3|\n",
      "| 504|               Youth|  Comedy,Drama,Music|A retired orchest...|    Paolo Sorrentino|Michael Caine, Ha...|                2015|              124|   7.3| 52636|               2.7|     64.0|             270.0|Batch3|\n",
      "| 986|       Your Highness|Adventure,Comedy,...|When Prince Fabio...|  David Gordon Green|Danny McBride, Na...|                2011|              102|   5.6| 87904|             21.56|     31.0|            2156.0|Batch3|\n",
      "| 838|You Don't Mess wi...|       Action,Comedy|An Israeli Specia...|        Dennis Dugan|Adam Sandler, Joh...|                2008|              113|   5.5|163144|            100.02|     54.0|           10002.0|Batch3|\n",
      "| 801|         Yoga Hosers|Comedy,Fantasy,Ho...|Two teenage yoga ...|         Kevin Smith|Lily-Rose Depp, H...|                2016|               88|   4.3|  7091|              null|     23.0|              null|Batch3|\n",
      "| 206|      X: First Class|Action,Adventure,...|In 1962, the Unit...|      Matthew Vaughn|James McAvoy, Mic...|                2011|              132|   7.8|550011|            146.41|     65.0|           14641.0|Batch3|\n",
      "| 627|X-Men: The Last S...|Action,Adventure,...|When a cure is fo...|        Brett Ratner|Patrick Stewart, ...|                2006|              104|   6.7|406540|            234.36|     58.0|           23436.0|Batch3|\n",
      "| 163|X-Men: Days of Fu...|Action,Adventure,...|The X-Men send Wo...|        Bryan Singer|Patrick Stewart, ...|                2014|              132|     8|552298|            233.91|     74.0|           23391.0|Batch3|\n",
      "|  33|   X-Men: Apocalypse|Action,Adventure,...|After the re-emer...|        Bryan Singer|James McAvoy, Mic...|                2016|              144|   7.1|275510|            155.33|     52.0|15533.000000000002|Batch3|\n",
      "| 269|X-Men Origins: Wo...|Action,Adventure,...|A look at Wolveri...|          Gavin Hood|Hugh Jackman, Lie...|                2009|              107|   6.7|388447|            179.88|     40.0|           17988.0|Batch3|\n",
      "| 969|             Wrecker|Action,Horror,Thr...|\"Best friends Emi...|\"\" they become th...|      Micheal Bafaro|Anna Hutchison, A...|             2015|    83|   3.5|            1210.0|     null|          121000.0|Batch3|\n",
      "| 564|      Wreck-It Ralph|Animation,Adventu...|A video game vill...|          Rich Moore|John C. Reilly, J...|                2012|              101|   7.8|290559|            189.41|     72.0|           18941.0|Batch3|\n",
      "| 880| Wrath of the Titans|Action,Adventure,...|Perseus braves th...|  Jonathan Liebesman|Sam Worthington, ...|                2012|               99|   5.8|159230|             83.64|     37.0|            8364.0|Batch3|\n",
      "| 433|         World War Z|Action,Adventure,...|Former United Nat...|        Marc Forster|Brad Pitt, Mireil...|                2013|              116|     7|494819|            202.35|     63.0|           20235.0|Batch3|\n",
      "+----+--------------------+--------------------+--------------------+--------------------+--------------------+--------------------+-----------------+------+------+------------------+---------+------------------+------+\n",
      "only showing top 20 rows\n",
      "\n"
     ]
    }
   ],
   "source": [
    "testdf=moviedf.sort(col(\"Title\").desc())\n",
    "testdf.show()"
   ]
  },
  {
   "cell_type": "code",
   "execution_count": 45,
   "id": "5f8f08d1",
   "metadata": {},
   "outputs": [
    {
     "name": "stdout",
     "output_type": "stream",
     "text": [
      "+----+--------------------+--------------------+\n",
      "|Rank|               Title|               Genre|\n",
      "+----+--------------------+--------------------+\n",
      "|   1|Guardians of the ...|Action,Adventure,...|\n",
      "|   2|          Prometheus|Adventure,Mystery...|\n",
      "|   3|               Split|     Horror,Thriller|\n",
      "|   4|                Sing|Animation,Comedy,...|\n",
      "|   5|       Suicide Squad|Action,Adventure,...|\n",
      "|   6|      The Great Wall|Action,Adventure,...|\n",
      "|   7|          La La Land|  Comedy,Drama,Music|\n",
      "|   8|            Mindhorn|              Comedy|\n",
      "|   9|  The Lost City of Z|Action,Adventure,...|\n",
      "|  10|          Passengers|Adventure,Drama,R...|\n",
      "|  11|Fantastic Beasts ...|Adventure,Family,...|\n",
      "|  12|      Hidden Figures|Biography,Drama,H...|\n",
      "|  13|           Rogue One|Action,Adventure,...|\n",
      "|  14|               Moana|Animation,Adventu...|\n",
      "|  15|            Colossal| Action,Comedy,Drama|\n",
      "|  16|The Secret Life o...|Animation,Adventu...|\n",
      "|  17|       Hacksaw Ridge|Biography,Drama,H...|\n",
      "|  18|        Jason Bourne|     Action,Thriller|\n",
      "|  19|                Lion|     Biography,Drama|\n",
      "|  20|             Arrival|Drama,Mystery,Sci-Fi|\n",
      "+----+--------------------+--------------------+\n",
      "only showing top 20 rows\n",
      "\n"
     ]
    }
   ],
   "source": [
    "df=moviedf.select('Rank','Title','Genre')\n",
    "df.show()"
   ]
  },
  {
   "cell_type": "code",
   "execution_count": 46,
   "id": "081d1d14",
   "metadata": {},
   "outputs": [
    {
     "name": "stdout",
     "output_type": "stream",
     "text": [
      "+----+--------------------+--------------------+--------------------+\n",
      "|Rank|               Title|               Genre|     last_updated_ts|\n",
      "+----+--------------------+--------------------+--------------------+\n",
      "|   1|Guardians of the ...|Action,Adventure,...|2023-09-22 05:32:...|\n",
      "|   2|          Prometheus|Adventure,Mystery...|2023-09-22 05:32:...|\n",
      "|   3|               Split|     Horror,Thriller|2023-09-22 05:32:...|\n",
      "|   4|                Sing|Animation,Comedy,...|2023-09-22 05:32:...|\n",
      "|   5|       Suicide Squad|Action,Adventure,...|2023-09-22 05:32:...|\n",
      "|   6|      The Great Wall|Action,Adventure,...|2023-09-22 05:32:...|\n",
      "|   7|          La La Land|  Comedy,Drama,Music|2023-09-22 05:32:...|\n",
      "|   8|            Mindhorn|              Comedy|2023-09-22 05:32:...|\n",
      "|   9|  The Lost City of Z|Action,Adventure,...|2023-09-22 05:32:...|\n",
      "|  10|          Passengers|Adventure,Drama,R...|2023-09-22 05:32:...|\n",
      "|  11|Fantastic Beasts ...|Adventure,Family,...|2023-09-22 05:32:...|\n",
      "|  12|      Hidden Figures|Biography,Drama,H...|2023-09-22 05:32:...|\n",
      "|  13|           Rogue One|Action,Adventure,...|2023-09-22 05:32:...|\n",
      "|  14|               Moana|Animation,Adventu...|2023-09-22 05:32:...|\n",
      "|  15|            Colossal| Action,Comedy,Drama|2023-09-22 05:32:...|\n",
      "|  16|The Secret Life o...|Animation,Adventu...|2023-09-22 05:32:...|\n",
      "|  17|       Hacksaw Ridge|Biography,Drama,H...|2023-09-22 05:32:...|\n",
      "|  18|        Jason Bourne|     Action,Thriller|2023-09-22 05:32:...|\n",
      "|  19|                Lion|     Biography,Drama|2023-09-22 05:32:...|\n",
      "|  20|             Arrival|Drama,Mystery,Sci-Fi|2023-09-22 05:32:...|\n",
      "+----+--------------------+--------------------+--------------------+\n",
      "only showing top 20 rows\n",
      "\n"
     ]
    }
   ],
   "source": [
    "from datetime import *\n",
    "df=df.withColumn(\"last_updated_ts\", lit(datetime.now()))\n",
    "df.show()"
   ]
  },
  {
   "cell_type": "code",
   "execution_count": 47,
   "id": "ef810605",
   "metadata": {},
   "outputs": [
    {
     "name": "stdout",
     "output_type": "stream",
     "text": [
      "+----------+----+--------------------+--------------------+\n",
      "|      test|Rank|               Title|               Genre|\n",
      "+----------+----+--------------------+--------------------+\n",
      "|2023-09-22|   1|Guardians of the ...|Action,Adventure,...|\n",
      "|2023-09-22|   2|          Prometheus|Adventure,Mystery...|\n",
      "|2023-09-22|   3|               Split|     Horror,Thriller|\n",
      "|2023-09-22|   4|                Sing|Animation,Comedy,...|\n",
      "|2023-09-22|   5|       Suicide Squad|Action,Adventure,...|\n",
      "|2023-09-22|   6|      The Great Wall|Action,Adventure,...|\n",
      "|2023-09-22|   7|          La La Land|  Comedy,Drama,Music|\n",
      "|2023-09-22|   8|            Mindhorn|              Comedy|\n",
      "|2023-09-22|   9|  The Lost City of Z|Action,Adventure,...|\n",
      "|2023-09-22|  10|          Passengers|Adventure,Drama,R...|\n",
      "|2023-09-22|  11|Fantastic Beasts ...|Adventure,Family,...|\n",
      "|2023-09-22|  12|      Hidden Figures|Biography,Drama,H...|\n",
      "|2023-09-22|  13|           Rogue One|Action,Adventure,...|\n",
      "|2023-09-22|  14|               Moana|Animation,Adventu...|\n",
      "|2023-09-22|  15|            Colossal| Action,Comedy,Drama|\n",
      "|2023-09-22|  16|The Secret Life o...|Animation,Adventu...|\n",
      "|2023-09-22|  17|       Hacksaw Ridge|Biography,Drama,H...|\n",
      "|2023-09-22|  18|        Jason Bourne|     Action,Thriller|\n",
      "|2023-09-22|  19|                Lion|     Biography,Drama|\n",
      "|2023-09-22|  20|             Arrival|Drama,Mystery,Sci-Fi|\n",
      "+----------+----+--------------------+--------------------+\n",
      "only showing top 20 rows\n",
      "\n"
     ]
    }
   ],
   "source": [
    "df_test=df.selectExpr('CAST(last_updated_ts AS DATE) AS test', 'Rank', 'Title', 'Genre')\n",
    "df_test.show()"
   ]
  },
  {
   "cell_type": "code",
   "execution_count": 49,
   "id": "0b0fa8f1",
   "metadata": {},
   "outputs": [
    {
     "name": "stdout",
     "output_type": "stream",
     "text": [
      "+----------+----+--------------------+--------------------+--------------------+\n",
      "|      test|Rank|               Title|               Genre|          Movie_Name|\n",
      "+----------+----+--------------------+--------------------+--------------------+\n",
      "|2023-09-22|   1|Guardians of the ...|Action,Adventure,...|Guardians of the ...|\n",
      "|2023-09-22|   2|          Prometheus|Adventure,Mystery...|          Prometheus|\n",
      "|2023-09-22|   3|               Split|     Horror,Thriller|               Split|\n",
      "|2023-09-22|   4|                Sing|Animation,Comedy,...|                Sing|\n",
      "|2023-09-22|   5|       Suicide Squad|Action,Adventure,...|       Suicide Squad|\n",
      "|2023-09-22|   6|      The Great Wall|Action,Adventure,...|      The Great Wall|\n",
      "|2023-09-22|   7|          La La Land|  Comedy,Drama,Music|          La La Land|\n",
      "|2023-09-22|   8|            Mindhorn|              Comedy|            Mindhorn|\n",
      "|2023-09-22|   9|  The Lost City of Z|Action,Adventure,...|  The Lost City of Z|\n",
      "|2023-09-22|  10|          Passengers|Adventure,Drama,R...|          Passengers|\n",
      "|2023-09-22|  11|Fantastic Beasts ...|Adventure,Family,...|Fantastic Beasts ...|\n",
      "|2023-09-22|  12|      Hidden Figures|Biography,Drama,H...|      Hidden Figures|\n",
      "|2023-09-22|  13|           Rogue One|Action,Adventure,...|           Rogue One|\n",
      "|2023-09-22|  14|               Moana|Animation,Adventu...|               Moana|\n",
      "|2023-09-22|  15|            Colossal| Action,Comedy,Drama|            Colossal|\n",
      "|2023-09-22|  16|The Secret Life o...|Animation,Adventu...|The Secret Life o...|\n",
      "|2023-09-22|  17|       Hacksaw Ridge|Biography,Drama,H...|       Hacksaw Ridge|\n",
      "|2023-09-22|  18|        Jason Bourne|     Action,Thriller|        Jason Bourne|\n",
      "|2023-09-22|  19|                Lion|     Biography,Drama|                Lion|\n",
      "|2023-09-22|  20|             Arrival|Drama,Mystery,Sci-Fi|             Arrival|\n",
      "+----------+----+--------------------+--------------------+--------------------+\n",
      "only showing top 20 rows\n",
      "\n"
     ]
    }
   ],
   "source": [
    "df_test=df_test.withColumn(\"Movie_Name\", lit(col(\"Title\")))\n",
    "df_test.show()"
   ]
  },
  {
   "cell_type": "code",
   "execution_count": 50,
   "id": "96a2a70f",
   "metadata": {},
   "outputs": [
    {
     "data": {
      "text/plain": [
       "1000"
      ]
     },
     "execution_count": 50,
     "metadata": {},
     "output_type": "execute_result"
    }
   ],
   "source": [
    "moviedf.count()"
   ]
  },
  {
   "cell_type": "code",
   "execution_count": 51,
   "id": "3bf74ec8",
   "metadata": {},
   "outputs": [],
   "source": [
    "newdf_01 = moviedf.dropDuplicates([\"Director\"])"
   ]
  },
  {
   "cell_type": "code",
   "execution_count": 52,
   "id": "1b41ca40",
   "metadata": {},
   "outputs": [
    {
     "data": {
      "text/plain": [
       "646"
      ]
     },
     "execution_count": 52,
     "metadata": {},
     "output_type": "execute_result"
    }
   ],
   "source": [
    "newdf_01.count()"
   ]
  },
  {
   "cell_type": "code",
   "execution_count": 60,
   "id": "cf07873f",
   "metadata": {},
   "outputs": [
    {
     "name": "stdout",
     "output_type": "stream",
     "text": [
      "+----+--------------------+--------------------+--------------------+--------------------+--------------------+--------------------+-----------------+------+------+------------------+---------+-----------------+------+------------+\n",
      "|Rank|               Title|               Genre|         Description|            Director|              Actors|                Year|Runtime (Minutes)|Rating| Votes|Revenue (Millions)|Metascore|          rev_col| Batch|Rating_Value|\n",
      "+----+--------------------+--------------------+--------------------+--------------------+--------------------+--------------------+-----------------+------+------+------------------+---------+-----------------+------+------------+\n",
      "|   1|Guardians of the ...|Action,Adventure,...|A group of interg...|          James Gunn|Chris Pratt, Vin ...|                2014|              121|   8.1|757074|            333.13|     76.0|          33313.0|Batch3|        Best|\n",
      "|   2|          Prometheus|Adventure,Mystery...|Following clues t...|        Ridley Scott|Noomi Rapace, Log...|                2012|              124|     7|485820|            126.46|     65.0|          12646.0|Batch3|        Good|\n",
      "|   3|               Split|     Horror,Thriller|Three girls are k...|  M. Night Shyamalan|James McAvoy, Any...|                2016|              117|   7.3|157606|            138.12|     62.0|          13812.0|Batch3|        Good|\n",
      "|   4|                Sing|Animation,Comedy,...|In a city of huma...|Christophe Lourdelet|Matthew McConaugh...|                2016|              108|   7.2| 60545|            270.32|     59.0|          27032.0|Batch3|        Good|\n",
      "|   5|       Suicide Squad|Action,Adventure,...|A secret governme...|          David Ayer|Will Smith, Jared...|                2016|              123|   6.2|393727|            325.02|     40.0|          32502.0|Batch3|        Good|\n",
      "|   6|      The Great Wall|Action,Adventure,...|European mercenar...|         Yimou Zhang|Matt Damon, Tian ...|                2016|              103|   6.1| 56036|             45.13|     42.0|           4513.0|Batch3|        Good|\n",
      "|   7|          La La Land|  Comedy,Drama,Music|A jazz pianist fa...|     Damien Chazelle|Ryan Gosling, Emm...|                2016|              128|   8.3|258682|            151.06|     93.0|          15106.0|Batch3|        Best|\n",
      "|   8|            Mindhorn|              Comedy|\"A has-been actor...| whom he believes...|          Sean Foley|Essie Davis, Andr...|             2016|    89|   6.4|            2490.0|     null|         249000.0|Batch3|          NA|\n",
      "|   9|  The Lost City of Z|Action,Adventure,...|A true-life drama...|          James Gray|Charlie Hunnam, R...|                2016|              141|   7.1|  7188|              8.01|     78.0|            801.0|Batch3|        Good|\n",
      "|  10|          Passengers|Adventure,Drama,R...|A spacecraft trav...|       Morten Tyldum|Jennifer Lawrence...|                2016|              116|     7|192177|            100.01|     41.0|          10001.0|Batch3|        Good|\n",
      "|  11|Fantastic Beasts ...|Adventure,Family,...|The adventures of...|         David Yates|Eddie Redmayne, K...|                2016|              133|   7.5|232072|            234.02|     66.0|          23402.0|Batch3|        Good|\n",
      "|  12|      Hidden Figures|Biography,Drama,H...|The story of a te...|      Theodore Melfi|Taraji P. Henson,...|                2016|              127|   7.8| 93103|            169.27|     74.0|          16927.0|Batch3|        Good|\n",
      "|  13|           Rogue One|Action,Adventure,...|The Rebel Allianc...|      Gareth Edwards|Felicity Jones, D...|                2016|              133|   7.9|323118|            532.17|     65.0|53216.99999999999|Batch3|        Good|\n",
      "|  14|               Moana|Animation,Adventu...|In Ancient Polyne...|        Ron Clements|Auli'i Cravalho, ...|                2016|              107|   7.7|118151|            248.75|     81.0|          24875.0|Batch3|        Good|\n",
      "|  15|            Colossal| Action,Comedy,Drama|Gloria is an out-...|     Nacho Vigalondo|Anne Hathaway, Ja...|                2016|              109|   6.4|  8612|              2.87|     70.0|            287.0|Batch3|        Good|\n",
      "|  16|The Secret Life o...|Animation,Adventu...|The quiet life of...|        Chris Renaud|Louis C.K., Eric ...|                2016|               87|   6.6|120259|            368.31|     61.0|          36831.0|Batch3|        Good|\n",
      "|  17|       Hacksaw Ridge|Biography,Drama,H...|WWII American Arm...|          Mel Gibson|Andrew Garfield, ...|                2016|              139|   8.2|211760|             67.12|     71.0|           6712.0|Batch3|        Best|\n",
      "|  18|        Jason Bourne|     Action,Thriller|The CIA's most da...|     Paul Greengrass|Matt Damon, Tommy...|                2016|              123|   6.7|150823|            162.16|     58.0|          16216.0|Batch3|        Good|\n",
      "|  19|                Lion|     Biography,Drama|A five-year-old I...|         Garth Davis|Dev Patel, Nicole...|                2016|              118|   8.1|102061|             51.69|     69.0|           5169.0|Batch3|        Best|\n",
      "|  20|             Arrival|Drama,Mystery,Sci-Fi|When twelve myste...|    Denis Villeneuve|Amy Adams, Jeremy...|                2016|              116|     8|340798|             100.5|     81.0|          10050.0|Batch3|        Best|\n",
      "+----+--------------------+--------------------+--------------------+--------------------+--------------------+--------------------+-----------------+------+------+------------------+---------+-----------------+------+------------+\n",
      "only showing top 20 rows\n",
      "\n"
     ]
    }
   ],
   "source": [
    "test_df=moviedf.withColumn(\"Rating_Value\", when((col(\"Rating\")>=0.0) & (col(\"Rating\")<5.0), \"Average\"). \n",
    "                           when((col(\"Rating\")>=5.0) & (col(\"Rating\")<8.0), \"Good\").\n",
    "                           when((col(\"Rating\")>=8.0) & (col(\"Rating\")<=10.0), \"Best\").\n",
    "                           otherwise(\"NA\"))\n",
    "test_df.show()"
   ]
  },
  {
   "cell_type": "code",
   "execution_count": 61,
   "id": "f3a18f57",
   "metadata": {},
   "outputs": [
    {
     "name": "stdout",
     "output_type": "stream",
     "text": [
      "hello\n"
     ]
    }
   ],
   "source": [
    "print(\"hello\")"
   ]
  },
  {
   "cell_type": "code",
   "execution_count": 64,
   "id": "255e5322",
   "metadata": {},
   "outputs": [],
   "source": [
    "test_df = test_df.withColumn(\"Concatenated\", concat(col(\"Title\"), lit(\"_Shell\")))"
   ]
  },
  {
   "cell_type": "code",
   "execution_count": 65,
   "id": "bc2a2b22",
   "metadata": {},
   "outputs": [
    {
     "name": "stdout",
     "output_type": "stream",
     "text": [
      "+----+--------------------+--------------------+--------------------+--------------------+--------------------+--------------------+-----------------+------+------+------------------+---------+-----------------+------+------------+--------------------+\n",
      "|Rank|               Title|               Genre|         Description|            Director|              Actors|                Year|Runtime (Minutes)|Rating| Votes|Revenue (Millions)|Metascore|          rev_col| Batch|Rating_Value|        Concatenated|\n",
      "+----+--------------------+--------------------+--------------------+--------------------+--------------------+--------------------+-----------------+------+------+------------------+---------+-----------------+------+------------+--------------------+\n",
      "|   1|Guardians of the ...|Action,Adventure,...|A group of interg...|          James Gunn|Chris Pratt, Vin ...|                2014|              121|   8.1|757074|            333.13|     76.0|          33313.0|Batch3|        Best|Guardians of the ...|\n",
      "|   2|          Prometheus|Adventure,Mystery...|Following clues t...|        Ridley Scott|Noomi Rapace, Log...|                2012|              124|     7|485820|            126.46|     65.0|          12646.0|Batch3|        Good|    Prometheus_Shell|\n",
      "|   3|               Split|     Horror,Thriller|Three girls are k...|  M. Night Shyamalan|James McAvoy, Any...|                2016|              117|   7.3|157606|            138.12|     62.0|          13812.0|Batch3|        Good|         Split_Shell|\n",
      "|   4|                Sing|Animation,Comedy,...|In a city of huma...|Christophe Lourdelet|Matthew McConaugh...|                2016|              108|   7.2| 60545|            270.32|     59.0|          27032.0|Batch3|        Good|          Sing_Shell|\n",
      "|   5|       Suicide Squad|Action,Adventure,...|A secret governme...|          David Ayer|Will Smith, Jared...|                2016|              123|   6.2|393727|            325.02|     40.0|          32502.0|Batch3|        Good| Suicide Squad_Shell|\n",
      "|   6|      The Great Wall|Action,Adventure,...|European mercenar...|         Yimou Zhang|Matt Damon, Tian ...|                2016|              103|   6.1| 56036|             45.13|     42.0|           4513.0|Batch3|        Good|The Great Wall_Shell|\n",
      "|   7|          La La Land|  Comedy,Drama,Music|A jazz pianist fa...|     Damien Chazelle|Ryan Gosling, Emm...|                2016|              128|   8.3|258682|            151.06|     93.0|          15106.0|Batch3|        Best|    La La Land_Shell|\n",
      "|   8|            Mindhorn|              Comedy|\"A has-been actor...| whom he believes...|          Sean Foley|Essie Davis, Andr...|             2016|    89|   6.4|            2490.0|     null|         249000.0|Batch3|          NA|      Mindhorn_Shell|\n",
      "|   9|  The Lost City of Z|Action,Adventure,...|A true-life drama...|          James Gray|Charlie Hunnam, R...|                2016|              141|   7.1|  7188|              8.01|     78.0|            801.0|Batch3|        Good|The Lost City of ...|\n",
      "|  10|          Passengers|Adventure,Drama,R...|A spacecraft trav...|       Morten Tyldum|Jennifer Lawrence...|                2016|              116|     7|192177|            100.01|     41.0|          10001.0|Batch3|        Good|    Passengers_Shell|\n",
      "|  11|Fantastic Beasts ...|Adventure,Family,...|The adventures of...|         David Yates|Eddie Redmayne, K...|                2016|              133|   7.5|232072|            234.02|     66.0|          23402.0|Batch3|        Good|Fantastic Beasts ...|\n",
      "|  12|      Hidden Figures|Biography,Drama,H...|The story of a te...|      Theodore Melfi|Taraji P. Henson,...|                2016|              127|   7.8| 93103|            169.27|     74.0|          16927.0|Batch3|        Good|Hidden Figures_Shell|\n",
      "|  13|           Rogue One|Action,Adventure,...|The Rebel Allianc...|      Gareth Edwards|Felicity Jones, D...|                2016|              133|   7.9|323118|            532.17|     65.0|53216.99999999999|Batch3|        Good|     Rogue One_Shell|\n",
      "|  14|               Moana|Animation,Adventu...|In Ancient Polyne...|        Ron Clements|Auli'i Cravalho, ...|                2016|              107|   7.7|118151|            248.75|     81.0|          24875.0|Batch3|        Good|         Moana_Shell|\n",
      "|  15|            Colossal| Action,Comedy,Drama|Gloria is an out-...|     Nacho Vigalondo|Anne Hathaway, Ja...|                2016|              109|   6.4|  8612|              2.87|     70.0|            287.0|Batch3|        Good|      Colossal_Shell|\n",
      "|  16|The Secret Life o...|Animation,Adventu...|The quiet life of...|        Chris Renaud|Louis C.K., Eric ...|                2016|               87|   6.6|120259|            368.31|     61.0|          36831.0|Batch3|        Good|The Secret Life o...|\n",
      "|  17|       Hacksaw Ridge|Biography,Drama,H...|WWII American Arm...|          Mel Gibson|Andrew Garfield, ...|                2016|              139|   8.2|211760|             67.12|     71.0|           6712.0|Batch3|        Best| Hacksaw Ridge_Shell|\n",
      "|  18|        Jason Bourne|     Action,Thriller|The CIA's most da...|     Paul Greengrass|Matt Damon, Tommy...|                2016|              123|   6.7|150823|            162.16|     58.0|          16216.0|Batch3|        Good|  Jason Bourne_Shell|\n",
      "|  19|                Lion|     Biography,Drama|A five-year-old I...|         Garth Davis|Dev Patel, Nicole...|                2016|              118|   8.1|102061|             51.69|     69.0|           5169.0|Batch3|        Best|          Lion_Shell|\n",
      "|  20|             Arrival|Drama,Mystery,Sci-Fi|When twelve myste...|    Denis Villeneuve|Amy Adams, Jeremy...|                2016|              116|     8|340798|             100.5|     81.0|          10050.0|Batch3|        Best|       Arrival_Shell|\n",
      "+----+--------------------+--------------------+--------------------+--------------------+--------------------+--------------------+-----------------+------+------+------------------+---------+-----------------+------+------------+--------------------+\n",
      "only showing top 20 rows\n",
      "\n"
     ]
    }
   ],
   "source": [
    "test_df.show()"
   ]
  },
  {
   "cell_type": "code",
   "execution_count": 66,
   "id": "992f36a3",
   "metadata": {},
   "outputs": [],
   "source": [
    "def concat_shell(column):\n",
    "    return column + \"_shell\""
   ]
  },
  {
   "cell_type": "code",
   "execution_count": 67,
   "id": "56816041",
   "metadata": {},
   "outputs": [],
   "source": [
    "my_udf = udf(concat_shell, StringType())"
   ]
  },
  {
   "cell_type": "code",
   "execution_count": 70,
   "id": "3fcb91e6",
   "metadata": {},
   "outputs": [],
   "source": [
    "from pyspark.sql.functions import *\n",
    "test = test_df.withColumn(\"new_col\", my_udf(col(\"Title\")))"
   ]
  },
  {
   "cell_type": "code",
   "execution_count": 71,
   "id": "eed36bbf",
   "metadata": {},
   "outputs": [
    {
     "name": "stdout",
     "output_type": "stream",
     "text": [
      "+----+--------------------+--------------------+--------------------+--------------------+--------------------+--------------------+-----------------+------+------+------------------+---------+-----------------+------+------------+--------------------+--------------------+\n",
      "|Rank|               Title|               Genre|         Description|            Director|              Actors|                Year|Runtime (Minutes)|Rating| Votes|Revenue (Millions)|Metascore|          rev_col| Batch|Rating_Value|        Concatenated|             new_col|\n",
      "+----+--------------------+--------------------+--------------------+--------------------+--------------------+--------------------+-----------------+------+------+------------------+---------+-----------------+------+------------+--------------------+--------------------+\n",
      "|   1|Guardians of the ...|Action,Adventure,...|A group of interg...|          James Gunn|Chris Pratt, Vin ...|                2014|              121|   8.1|757074|            333.13|     76.0|          33313.0|Batch3|        Best|Guardians of the ...|Guardians of the ...|\n",
      "|   2|          Prometheus|Adventure,Mystery...|Following clues t...|        Ridley Scott|Noomi Rapace, Log...|                2012|              124|     7|485820|            126.46|     65.0|          12646.0|Batch3|        Good|    Prometheus_Shell|    Prometheus_shell|\n",
      "|   3|               Split|     Horror,Thriller|Three girls are k...|  M. Night Shyamalan|James McAvoy, Any...|                2016|              117|   7.3|157606|            138.12|     62.0|          13812.0|Batch3|        Good|         Split_Shell|         Split_shell|\n",
      "|   4|                Sing|Animation,Comedy,...|In a city of huma...|Christophe Lourdelet|Matthew McConaugh...|                2016|              108|   7.2| 60545|            270.32|     59.0|          27032.0|Batch3|        Good|          Sing_Shell|          Sing_shell|\n",
      "|   5|       Suicide Squad|Action,Adventure,...|A secret governme...|          David Ayer|Will Smith, Jared...|                2016|              123|   6.2|393727|            325.02|     40.0|          32502.0|Batch3|        Good| Suicide Squad_Shell| Suicide Squad_shell|\n",
      "|   6|      The Great Wall|Action,Adventure,...|European mercenar...|         Yimou Zhang|Matt Damon, Tian ...|                2016|              103|   6.1| 56036|             45.13|     42.0|           4513.0|Batch3|        Good|The Great Wall_Shell|The Great Wall_shell|\n",
      "|   7|          La La Land|  Comedy,Drama,Music|A jazz pianist fa...|     Damien Chazelle|Ryan Gosling, Emm...|                2016|              128|   8.3|258682|            151.06|     93.0|          15106.0|Batch3|        Best|    La La Land_Shell|    La La Land_shell|\n",
      "|   8|            Mindhorn|              Comedy|\"A has-been actor...| whom he believes...|          Sean Foley|Essie Davis, Andr...|             2016|    89|   6.4|            2490.0|     null|         249000.0|Batch3|          NA|      Mindhorn_Shell|      Mindhorn_shell|\n",
      "|   9|  The Lost City of Z|Action,Adventure,...|A true-life drama...|          James Gray|Charlie Hunnam, R...|                2016|              141|   7.1|  7188|              8.01|     78.0|            801.0|Batch3|        Good|The Lost City of ...|The Lost City of ...|\n",
      "|  10|          Passengers|Adventure,Drama,R...|A spacecraft trav...|       Morten Tyldum|Jennifer Lawrence...|                2016|              116|     7|192177|            100.01|     41.0|          10001.0|Batch3|        Good|    Passengers_Shell|    Passengers_shell|\n",
      "|  11|Fantastic Beasts ...|Adventure,Family,...|The adventures of...|         David Yates|Eddie Redmayne, K...|                2016|              133|   7.5|232072|            234.02|     66.0|          23402.0|Batch3|        Good|Fantastic Beasts ...|Fantastic Beasts ...|\n",
      "|  12|      Hidden Figures|Biography,Drama,H...|The story of a te...|      Theodore Melfi|Taraji P. Henson,...|                2016|              127|   7.8| 93103|            169.27|     74.0|          16927.0|Batch3|        Good|Hidden Figures_Shell|Hidden Figures_shell|\n",
      "|  13|           Rogue One|Action,Adventure,...|The Rebel Allianc...|      Gareth Edwards|Felicity Jones, D...|                2016|              133|   7.9|323118|            532.17|     65.0|53216.99999999999|Batch3|        Good|     Rogue One_Shell|     Rogue One_shell|\n",
      "|  14|               Moana|Animation,Adventu...|In Ancient Polyne...|        Ron Clements|Auli'i Cravalho, ...|                2016|              107|   7.7|118151|            248.75|     81.0|          24875.0|Batch3|        Good|         Moana_Shell|         Moana_shell|\n",
      "|  15|            Colossal| Action,Comedy,Drama|Gloria is an out-...|     Nacho Vigalondo|Anne Hathaway, Ja...|                2016|              109|   6.4|  8612|              2.87|     70.0|            287.0|Batch3|        Good|      Colossal_Shell|      Colossal_shell|\n",
      "|  16|The Secret Life o...|Animation,Adventu...|The quiet life of...|        Chris Renaud|Louis C.K., Eric ...|                2016|               87|   6.6|120259|            368.31|     61.0|          36831.0|Batch3|        Good|The Secret Life o...|The Secret Life o...|\n",
      "|  17|       Hacksaw Ridge|Biography,Drama,H...|WWII American Arm...|          Mel Gibson|Andrew Garfield, ...|                2016|              139|   8.2|211760|             67.12|     71.0|           6712.0|Batch3|        Best| Hacksaw Ridge_Shell| Hacksaw Ridge_shell|\n",
      "|  18|        Jason Bourne|     Action,Thriller|The CIA's most da...|     Paul Greengrass|Matt Damon, Tommy...|                2016|              123|   6.7|150823|            162.16|     58.0|          16216.0|Batch3|        Good|  Jason Bourne_Shell|  Jason Bourne_shell|\n",
      "|  19|                Lion|     Biography,Drama|A five-year-old I...|         Garth Davis|Dev Patel, Nicole...|                2016|              118|   8.1|102061|             51.69|     69.0|           5169.0|Batch3|        Best|          Lion_Shell|          Lion_shell|\n",
      "|  20|             Arrival|Drama,Mystery,Sci-Fi|When twelve myste...|    Denis Villeneuve|Amy Adams, Jeremy...|                2016|              116|     8|340798|             100.5|     81.0|          10050.0|Batch3|        Best|       Arrival_Shell|       Arrival_shell|\n",
      "+----+--------------------+--------------------+--------------------+--------------------+--------------------+--------------------+-----------------+------+------+------------------+---------+-----------------+------+------------+--------------------+--------------------+\n",
      "only showing top 20 rows\n",
      "\n"
     ]
    },
    {
     "name": "stderr",
     "output_type": "stream",
     "text": [
      "\r",
      "                                                                                \r"
     ]
    }
   ],
   "source": [
    "test.show()"
   ]
  },
  {
   "cell_type": "code",
   "execution_count": 72,
   "id": "9c0ae7a9",
   "metadata": {},
   "outputs": [],
   "source": [
    "test_df = test_df.drop('new_col')"
   ]
  },
  {
   "cell_type": "code",
   "execution_count": 73,
   "id": "a7aff420",
   "metadata": {},
   "outputs": [
    {
     "name": "stdout",
     "output_type": "stream",
     "text": [
      "+----+--------------------+--------------------+--------------------+--------------------+--------------------+--------------------+-----------------+------+------+------------------+---------+-----------------+------+------------+--------------------+\n",
      "|Rank|               Title|               Genre|         Description|            Director|              Actors|                Year|Runtime (Minutes)|Rating| Votes|Revenue (Millions)|Metascore|          rev_col| Batch|Rating_Value|        Concatenated|\n",
      "+----+--------------------+--------------------+--------------------+--------------------+--------------------+--------------------+-----------------+------+------+------------------+---------+-----------------+------+------------+--------------------+\n",
      "|   1|Guardians of the ...|Action,Adventure,...|A group of interg...|          James Gunn|Chris Pratt, Vin ...|                2014|              121|   8.1|757074|            333.13|     76.0|          33313.0|Batch3|        Best|Guardians of the ...|\n",
      "|   2|          Prometheus|Adventure,Mystery...|Following clues t...|        Ridley Scott|Noomi Rapace, Log...|                2012|              124|     7|485820|            126.46|     65.0|          12646.0|Batch3|        Good|    Prometheus_Shell|\n",
      "|   3|               Split|     Horror,Thriller|Three girls are k...|  M. Night Shyamalan|James McAvoy, Any...|                2016|              117|   7.3|157606|            138.12|     62.0|          13812.0|Batch3|        Good|         Split_Shell|\n",
      "|   4|                Sing|Animation,Comedy,...|In a city of huma...|Christophe Lourdelet|Matthew McConaugh...|                2016|              108|   7.2| 60545|            270.32|     59.0|          27032.0|Batch3|        Good|          Sing_Shell|\n",
      "|   5|       Suicide Squad|Action,Adventure,...|A secret governme...|          David Ayer|Will Smith, Jared...|                2016|              123|   6.2|393727|            325.02|     40.0|          32502.0|Batch3|        Good| Suicide Squad_Shell|\n",
      "|   6|      The Great Wall|Action,Adventure,...|European mercenar...|         Yimou Zhang|Matt Damon, Tian ...|                2016|              103|   6.1| 56036|             45.13|     42.0|           4513.0|Batch3|        Good|The Great Wall_Shell|\n",
      "|   7|          La La Land|  Comedy,Drama,Music|A jazz pianist fa...|     Damien Chazelle|Ryan Gosling, Emm...|                2016|              128|   8.3|258682|            151.06|     93.0|          15106.0|Batch3|        Best|    La La Land_Shell|\n",
      "|   8|            Mindhorn|              Comedy|\"A has-been actor...| whom he believes...|          Sean Foley|Essie Davis, Andr...|             2016|    89|   6.4|            2490.0|     null|         249000.0|Batch3|          NA|      Mindhorn_Shell|\n",
      "|   9|  The Lost City of Z|Action,Adventure,...|A true-life drama...|          James Gray|Charlie Hunnam, R...|                2016|              141|   7.1|  7188|              8.01|     78.0|            801.0|Batch3|        Good|The Lost City of ...|\n",
      "|  10|          Passengers|Adventure,Drama,R...|A spacecraft trav...|       Morten Tyldum|Jennifer Lawrence...|                2016|              116|     7|192177|            100.01|     41.0|          10001.0|Batch3|        Good|    Passengers_Shell|\n",
      "|  11|Fantastic Beasts ...|Adventure,Family,...|The adventures of...|         David Yates|Eddie Redmayne, K...|                2016|              133|   7.5|232072|            234.02|     66.0|          23402.0|Batch3|        Good|Fantastic Beasts ...|\n",
      "|  12|      Hidden Figures|Biography,Drama,H...|The story of a te...|      Theodore Melfi|Taraji P. Henson,...|                2016|              127|   7.8| 93103|            169.27|     74.0|          16927.0|Batch3|        Good|Hidden Figures_Shell|\n",
      "|  13|           Rogue One|Action,Adventure,...|The Rebel Allianc...|      Gareth Edwards|Felicity Jones, D...|                2016|              133|   7.9|323118|            532.17|     65.0|53216.99999999999|Batch3|        Good|     Rogue One_Shell|\n",
      "|  14|               Moana|Animation,Adventu...|In Ancient Polyne...|        Ron Clements|Auli'i Cravalho, ...|                2016|              107|   7.7|118151|            248.75|     81.0|          24875.0|Batch3|        Good|         Moana_Shell|\n",
      "|  15|            Colossal| Action,Comedy,Drama|Gloria is an out-...|     Nacho Vigalondo|Anne Hathaway, Ja...|                2016|              109|   6.4|  8612|              2.87|     70.0|            287.0|Batch3|        Good|      Colossal_Shell|\n",
      "|  16|The Secret Life o...|Animation,Adventu...|The quiet life of...|        Chris Renaud|Louis C.K., Eric ...|                2016|               87|   6.6|120259|            368.31|     61.0|          36831.0|Batch3|        Good|The Secret Life o...|\n",
      "|  17|       Hacksaw Ridge|Biography,Drama,H...|WWII American Arm...|          Mel Gibson|Andrew Garfield, ...|                2016|              139|   8.2|211760|             67.12|     71.0|           6712.0|Batch3|        Best| Hacksaw Ridge_Shell|\n",
      "|  18|        Jason Bourne|     Action,Thriller|The CIA's most da...|     Paul Greengrass|Matt Damon, Tommy...|                2016|              123|   6.7|150823|            162.16|     58.0|          16216.0|Batch3|        Good|  Jason Bourne_Shell|\n",
      "|  19|                Lion|     Biography,Drama|A five-year-old I...|         Garth Davis|Dev Patel, Nicole...|                2016|              118|   8.1|102061|             51.69|     69.0|           5169.0|Batch3|        Best|          Lion_Shell|\n",
      "|  20|             Arrival|Drama,Mystery,Sci-Fi|When twelve myste...|    Denis Villeneuve|Amy Adams, Jeremy...|                2016|              116|     8|340798|             100.5|     81.0|          10050.0|Batch3|        Best|       Arrival_Shell|\n",
      "+----+--------------------+--------------------+--------------------+--------------------+--------------------+--------------------+-----------------+------+------+------------------+---------+-----------------+------+------------+--------------------+\n",
      "only showing top 20 rows\n",
      "\n"
     ]
    }
   ],
   "source": [
    "test_df.show()"
   ]
  },
  {
   "cell_type": "code",
   "execution_count": 74,
   "id": "f9367899",
   "metadata": {},
   "outputs": [],
   "source": [
    "new_df = moviedf.cache()"
   ]
  },
  {
   "cell_type": "code",
   "execution_count": 75,
   "id": "e383eac3",
   "metadata": {},
   "outputs": [
    {
     "name": "stdout",
     "output_type": "stream",
     "text": [
      "+----+--------------------+--------------------+--------------------+------------+--------------------+----+-----------------+------+------+------------------+---------+-------+------+\n",
      "|Rank|               Title|               Genre|         Description|    Director|              Actors|Year|Runtime (Minutes)|Rating| Votes|Revenue (Millions)|Metascore|rev_col| Batch|\n",
      "+----+--------------------+--------------------+--------------------+------------+--------------------+----+-----------------+------+------+------------------+---------+-------+------+\n",
      "|   1|Guardians of the ...|Action,Adventure,...|A group of interg...|  James Gunn|Chris Pratt, Vin ...|2014|              121|   8.1|757074|            333.13|     76.0|33313.0|Batch3|\n",
      "|   2|          Prometheus|Adventure,Mystery...|Following clues t...|Ridley Scott|Noomi Rapace, Log...|2012|              124|     7|485820|            126.46|     65.0|12646.0|Batch3|\n",
      "+----+--------------------+--------------------+--------------------+------------+--------------------+----+-----------------+------+------+------------------+---------+-------+------+\n",
      "only showing top 2 rows\n",
      "\n"
     ]
    }
   ],
   "source": [
    "new_df.show(2)"
   ]
  },
  {
   "cell_type": "code",
   "execution_count": null,
   "id": "8177f983",
   "metadata": {},
   "outputs": [],
   "source": []
  }
 ],
 "metadata": {
  "kernelspec": {
   "display_name": "Python 3 (ipykernel)",
   "language": "python",
   "name": "python3"
  },
  "language_info": {
   "codemirror_mode": {
    "name": "ipython",
    "version": 3
   },
   "file_extension": ".py",
   "mimetype": "text/x-python",
   "name": "python",
   "nbconvert_exporter": "python",
   "pygments_lexer": "ipython3",
   "version": "3.11.4"
  }
 },
 "nbformat": 4,
 "nbformat_minor": 5
}
