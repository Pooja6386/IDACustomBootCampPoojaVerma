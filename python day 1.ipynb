{
 "cells": [
  {
   "cell_type": "code",
   "execution_count": 4,
   "id": "c42d2c44",
   "metadata": {},
   "outputs": [
    {
     "name": "stdout",
     "output_type": "stream",
     "text": [
      "1\n",
      "1.0\n",
      "Hello World\n",
      "True\n",
      "[1, 2, 'A', 'B', 1.0]\n",
      "(1, 2, 3, 'C', 'D', 2.0)\n",
      "{'ID': 1, 'Name': 'Pooja'}\n"
     ]
    }
   ],
   "source": [
    "a=1\n",
    "b=1.00\n",
    "c=\"Hello World\"\n",
    "d=True\n",
    "e=[1,2,\"A\",\"B\",1.00]\n",
    "f=(1,2,3,\"C\",\"D\",2.00)\n",
    "g={ \"ID\":1, \"Name\":\"Pooja\"}\n",
    "print(a)\n",
    "print(b)\n",
    "print(c)\n",
    "print(d)\n",
    "print(e)\n",
    "print(f)\n",
    "print(g)"
   ]
  },
  {
   "cell_type": "code",
   "execution_count": 6,
   "id": "da951e09",
   "metadata": {},
   "outputs": [],
   "source": [
    "# Integers\n",
    "age = 25\n",
    "\n",
    "# Floating-Point Numbers\n",
    "price = 19.99\n",
    "\n",
    "# Strings\n",
    "name = \"Alice\"\n",
    "message = 'Hello, World!'\n",
    "\n",
    "# Boolean Values\n",
    "is_python_fun = True\n",
    "is_learning = False\n",
    "\n",
    "# Lists\n",
    "numbers = [1, 2, 3, 4, 5]\n",
    "fruits = [\"apple\", \"banana\", \"cherry\"]\n",
    "\n",
    "# Tuples\n",
    "coordinates = (3, 4)\n",
    "\n",
    "# Dictionaries\n",
    "person = {\"name\": \"Alice\", \"age\": 30, \"city\": \"New York\"}\n",
    "grades = {\"math\": 92, \"history\": 85, \"science\": 88}\n",
    "\n",
    "# Accessing elements in lists and dictionaries\n",
    "first_number = numbers[0]\n",
    "last_fruit = fruits[-1]\n",
    "name = person[\"name\"]\n",
    "math_grade = grades[\"math\"]"
   ]
  },
  {
   "cell_type": "code",
   "execution_count": 5,
   "id": "d9aaa34b",
   "metadata": {},
   "outputs": [
    {
     "name": "stdout",
     "output_type": "stream",
     "text": [
      "15\n",
      "5\n",
      "50\n",
      "2.0\n",
      "0\n",
      "100000\n",
      "True\n",
      "True\n"
     ]
    }
   ],
   "source": [
    "#Arithmetic Operator\n",
    "a = 10\n",
    "b = 5\n",
    "\n",
    "# Addition\n",
    "addition = a + b  # Result: 15\n",
    "\n",
    "# Subtraction\n",
    "subtraction = a - b  # Result: 5\n",
    "\n",
    "# Multiplication\n",
    "multiplication = a * b  # Result: 50\n",
    "\n",
    "# Division\n",
    "division = a / b  # Result: 2.0 (Python 3 always returns a float in division)\n",
    "\n",
    "# Modulus (remainder)\n",
    "modulus = a % b  # Result: 0\n",
    "\n",
    "# Exponentiation\n",
    "exponentiation = a ** b  # Result: 100000\n",
    "\n",
    "\n",
    "#Membership Operator\n",
    "\n",
    "my_list = [1, 2, 3, 4, 5]\n",
    "\n",
    "# Membership - in operator\n",
    "is_in_list = 3 in my_list  # Result: True\n",
    "\n",
    "# Membership - not in operator\n",
    "is_not_in_list = 6 not in my_list  # Result: True\n",
    "\n",
    "print(addition)\n",
    "print(subtraction)\n",
    "print(multiplication)\n",
    "print(division)\n",
    "print(modulus)\n",
    "print(exponentiation)\n",
    "print(is_in_list)\n",
    "print(is_not_in_list)"
   ]
  },
  {
   "cell_type": "code",
   "execution_count": 7,
   "id": "9fd419a1",
   "metadata": {},
   "outputs": [
    {
     "name": "stdout",
     "output_type": "stream",
     "text": [
      "[{'Region': 'North', 'Stations': ['A', 'B', 'C', 'D', 'S'], 'Profit': True, 'Low Fuel Price': True, 'User Satisfaction': True}, {'Region': 'South', 'Stations': ['E', 'F', 'G', 'H', 'S'], 'Profit': True, 'Low Fuel Price': False, 'User Satisfaction': True}, {'Region': 'East', 'Stations': ['I', 'J', 'K', 'L', 'S'], 'Profit': True, 'Low Fuel Price': True, 'User Satisfaction': False}, {'Region': 'West', 'Stations': ['M', 'N', 'O', 'P'], 'Profit': False, 'Low Fuel Price': True, 'User Satisfaction': True}]\n"
     ]
    }
   ],
   "source": [
    "sp_stations = [\n",
    "    {\n",
    "     \"Region\": \"North\",\n",
    "     \"Stations\": [\"A\",\"B\",\"C\",\"D\"],\n",
    "     \"Profit\": True,\n",
    "     \"Low Fuel Price\": True,\n",
    "     \"User Satisfaction\": True\n",
    "    },\n",
    "    {\n",
    "     \"Region\": \"South\",\n",
    "     \"Stations\": [\"E\",\"F\",\"G\",\"H\"],\n",
    "     \"Profit\": True,\n",
    "     \"Low Fuel Price\": False,\n",
    "     \"User Satisfaction\": True\n",
    "    },\n",
    "    {\n",
    "     \"Region\": \"East\",\n",
    "     \"Stations\": [\"I\",\"J\",\"K\",\"L\"],\n",
    "     \"Profit\": True,\n",
    "     \"Low Fuel Price\": True,\n",
    "     \"User Satisfaction\": False\n",
    "    },\n",
    "    {\n",
    "     \"Region\": \"West\",\n",
    "     \"Stations\": [\"M\",\"N\",\"O\",\"P\"],\n",
    "     \"Profit\": False,\n",
    "     \"Low Fuel Price\": True,\n",
    "     \"User Satisfaction\": True\n",
    "    }\n",
    "]\n",
    "\n",
    "for i in sp_stations:\n",
    "    expansion = i[\"Profit\"] and (i[\"Low Fuel Price\"] or i[\"User Satisfaction\"])\n",
    "    if expansion:\n",
    "        i[\"Stations\"].append(\"S\")\n",
    "\n",
    "print(sp_stations)"
   ]
  },
  {
   "cell_type": "code",
   "execution_count": 8,
   "id": "35339abe",
   "metadata": {},
   "outputs": [
    {
     "name": "stdout",
     "output_type": "stream",
     "text": [
      "Hello World!\n"
     ]
    }
   ],
   "source": [
    "print(\"Hello World!\")"
   ]
  },
  {
   "cell_type": "code",
   "execution_count": 9,
   "id": "44ff57b9",
   "metadata": {},
   "outputs": [
    {
     "name": "stdout",
     "output_type": "stream",
     "text": [
      "hii\n"
     ]
    }
   ],
   "source": [
    "print(\"hii\")"
   ]
  },
  {
   "cell_type": "code",
   "execution_count": 12,
   "id": "69461860",
   "metadata": {},
   "outputs": [
    {
     "name": "stdout",
     "output_type": "stream",
     "text": [
      "My name is Alice and I am 21 years old.\n"
     ]
    }
   ],
   "source": [
    "name = \"Alice\"\n",
    "age = 21\n",
    "formatted_string = \"My name is {} and I am {} years old.\".format(name, age)\n",
    "print(formatted_string)"
   ]
  },
  {
   "cell_type": "code",
   "execution_count": 13,
   "id": "83993d11",
   "metadata": {},
   "outputs": [
    {
     "name": "stdout",
     "output_type": "stream",
     "text": [
      "<zip object at 0x7f76d5700800>\n",
      "(1, 'a')\n",
      "(2, 'b')\n",
      "(3, 'c')\n"
     ]
    }
   ],
   "source": [
    "list1 = [1, 2, 3]\n",
    "list2 = ['a', 'b', 'c', 'd']\n",
    "\n",
    "def zip_function(a, b):\n",
    "    zipped = zip(list1, list2)\n",
    "    print(zipped)\n",
    "    for item in zipped:\n",
    "        print(item)\n",
    "\n",
    "zip_function(list1, list2)"
   ]
  },
  {
   "cell_type": "code",
   "execution_count": null,
   "id": "66961322",
   "metadata": {},
   "outputs": [],
   "source": []
  },
  {
   "cell_type": "code",
   "execution_count": null,
   "id": "24cc3560",
   "metadata": {},
   "outputs": [],
   "source": []
  }
 ],
 "metadata": {
  "kernelspec": {
   "display_name": "Python 3 (ipykernel)",
   "language": "python",
   "name": "python3"
  },
  "language_info": {
   "codemirror_mode": {
    "name": "ipython",
    "version": 3
   },
   "file_extension": ".py",
   "mimetype": "text/x-python",
   "name": "python",
   "nbconvert_exporter": "python",
   "pygments_lexer": "ipython3",
   "version": "3.11.4"
  }
 },
 "nbformat": 4,
 "nbformat_minor": 5
}
