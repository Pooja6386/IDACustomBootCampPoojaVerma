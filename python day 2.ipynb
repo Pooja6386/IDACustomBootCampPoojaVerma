{
 "cells": [
  {
   "cell_type": "code",
   "execution_count": 5,
   "id": "36e67b72",
   "metadata": {},
   "outputs": [
    {
     "name": "stdout",
     "output_type": "stream",
     "text": [
      "Gas Volume : 4.009301579664823 m^3\n"
     ]
    }
   ],
   "source": [
    "def volume_of_gas(pressure, temperature, gas_constant,):\n",
    "    \"\"\"\n",
    "    09/19/2023 - Pooja Verma - Created function to calculate volume of the gas.\n",
    "    Calculate the volume of a gas using the ideal gas law.\n",
    "    Args:\n",
    "        pressure(float): Pressure in Pascals(Pa).\n",
    "        temperature(float) : Temperature in Kelvin(K).\n",
    "        gas_constant(float) : Gas constant for the specific gas.\n",
    "    Returns:\n",
    "        float: Volume in cubic meters(m^3).\n",
    "    \"\"\"\n",
    "    return (pressure * 1.0)/(gas_constant * temperature)\n",
    "gas_vol = volume_of_gas(10000, 300, 8.314)\n",
    "print(f\"Gas Volume : {gas_vol} m^3\")"
   ]
  },
  {
   "cell_type": "code",
   "execution_count": 9,
   "id": "60ed76b6",
   "metadata": {},
   "outputs": [
    {
     "name": "stdout",
     "output_type": "stream",
     "text": [
      "Mass of Gas : 7494.021644233313 g\n"
     ]
    }
   ],
   "source": [
    "def calculate_gas_mass(pressure, temperature, gas_constant, molar_mass):\n",
    "    \"\"\"\n",
    "    09/19/2023 - Pooja Verma - Created function to calculate mass of the gas.\n",
    "    Calculate the mass of a gas using the ideal gas law and molar mass.\n",
    "    Args:\n",
    "        pressure(float): Pressure in Pascals(Pa).\n",
    "        temperature(float) : Temperature in Kelvin(K).\n",
    "        gas_constant(float) : Gas constant for the specific gas.\n",
    "        molar_mass(float) : molar mass of the gas in g/mol.\n",
    "    Returns:\n",
    "        float: Mass in grams(g).\n",
    "    \"\"\"\n",
    "    volume = volume_of_gas(pressure, temperature, gas_constant)\n",
    "    return (volume * molar_mass)*1000\n",
    "gas_mass = calculate_gas_mass(10000, 321, 8.314, 2.0)\n",
    "print(f\"Mass of Gas : {gas_mass} g\")"
   ]
  },
  {
   "cell_type": "code",
   "execution_count": 10,
   "id": "0927ae7d",
   "metadata": {},
   "outputs": [
    {
     "data": {
      "text/plain": [
       "3628800"
      ]
     },
     "execution_count": 10,
     "metadata": {},
     "output_type": "execute_result"
    }
   ],
   "source": [
    "def factorial(n):\n",
    "    \"\"\"\n",
    "    09/19/2023 - Pooja Verma - Created a recursive function to calculate factorial.\n",
    "    Args:\n",
    "        n (int): number to calculate factorial.\n",
    "    Returns:\n",
    "        int: factorial of the number.\n",
    "    \"\"\"\n",
    "    if n==0: #base condition\n",
    "        return 1\n",
    "    else:\n",
    "        return n*factorial(n-1) #recursive call\n",
    "factorial(10)"
   ]
  },
  {
   "cell_type": "code",
   "execution_count": 11,
   "id": "23827e7a",
   "metadata": {},
   "outputs": [
    {
     "data": {
      "text/plain": [
       "21"
      ]
     },
     "execution_count": 11,
     "metadata": {},
     "output_type": "execute_result"
    }
   ],
   "source": [
    "def calculate_total_depth(segments):\n",
    "     \"\"\"\n",
    "    09/19/2023 - Pooja Verma - Created a recursive function to calculate the sum of segment depths.\n",
    "    Args:\n",
    "        segments (list): List of segment depths for segment depth calculation.\n",
    "    Returns:\n",
    "        int: sum of segment depths.\n",
    "    \"\"\"\n",
    "    if not segments:\n",
    "        return 0\n",
    "    else:\n",
    "        curr_seg_depth = segments[0]\n",
    "        remaining_seg = segments[1:]\n",
    "        return curr_seg_depth + calculate_total_depth(remaining_seg)\n",
    "calculate_total_depth([1,2,3,4,5,6])"
   ]
  },
  {
   "cell_type": "code",
   "execution_count": 12,
   "id": "f8bb0a98",
   "metadata": {},
   "outputs": [
    {
     "data": {
      "text/plain": [
       "<generator object generate_squares at 0x7f701055a880>"
      ]
     },
     "execution_count": 12,
     "metadata": {},
     "output_type": "execute_result"
    }
   ],
   "source": [
    "def generate_squares(n):\n",
    "    \"\"\"\n",
    "    09/19/2023 - Pooja Verma - Created a generator function to calculate the square of numbers.\n",
    "    Args:\n",
    "        n (int): Number upto which we calculate squares.\n",
    "    Returns:\n",
    "        int: saves each number's square.\n",
    "    \"\"\"\n",
    "    for i in range(1, n+1):\n",
    "        yield i ** 2\n",
    "generate_squares(5)"
   ]
  },
  {
   "cell_type": "code",
   "execution_count": 13,
   "id": "e16abfc0",
   "metadata": {},
   "outputs": [
    {
     "name": "stdout",
     "output_type": "stream",
     "text": [
      "1\n",
      "4\n",
      "9\n",
      "16\n",
      "25\n"
     ]
    }
   ],
   "source": [
    "for i in generate_squares(5):\n",
    "    print(i)"
   ]
  },
  {
   "cell_type": "code",
   "execution_count": 15,
   "id": "45968959",
   "metadata": {},
   "outputs": [
    {
     "name": "stdout",
     "output_type": "stream",
     "text": [
      "jan:1000\n",
      "feb:1000\n",
      "mar:1000\n",
      "apr:1000\n",
      "may:1000\n",
      "jun:1000\n",
      "jul:1000\n",
      "aug:1000\n",
      "sep:1000\n",
      "oct:1000\n",
      "nov:1000\n",
      "dec:1000\n"
     ]
    }
   ],
   "source": [
    "#calculate monthly oil production from yearly oil production\n",
    "def oil_production_m(yearly_value):\n",
    "    \"\"\"\n",
    "    09/19/2023 - Pooja Verma - Created a generator function to calculate the\n",
    "    monthly value of oil production from yearly value of oil production .\n",
    "    Args:\n",
    "    yearly_value (int): Number for whole year oil production.\n",
    "    Returns:\n",
    "    int : saves montly oil production in key-value form.\n",
    "    \"\"\"\n",
    "    monthly_value = yearly_value//12\n",
    "    months = [\"jan\", \"feb\", \"mar\", \"apr\", \"may\", \"jun\", \"jul\", \"aug\", \"sep\", \"oct\", \"nov\", \"dec\"]\n",
    "    for month in months:\n",
    "        yield month, monthly_value\n",
    "for month, production in oil_production_m(12000):\n",
    "    print(f\"{month}:{production}\")"
   ]
  },
  {
   "cell_type": "code",
   "execution_count": 16,
   "id": "37f78bf1",
   "metadata": {},
   "outputs": [],
   "source": [
    "def ida_hello():\n",
    "    print(\"Hello\")"
   ]
  },
  {
   "cell_type": "code",
   "execution_count": 17,
   "id": "c5332604",
   "metadata": {},
   "outputs": [
    {
     "name": "stdout",
     "output_type": "stream",
     "text": [
      "Hello\n"
     ]
    }
   ],
   "source": [
    "ida_hello()"
   ]
  },
  {
   "cell_type": "code",
   "execution_count": 21,
   "id": "1d1f5643",
   "metadata": {},
   "outputs": [],
   "source": [
    "def my_dec(fun):\n",
    "    def wrapper():\n",
    "        print(\"i am starting\")\n",
    "        fun()\n",
    "        print(\"i am completed\")\n",
    "    return wrapper\n",
    "@my_dec\n",
    "def ida_hello():\n",
    "    print(\"Hello\")"
   ]
  },
  {
   "cell_type": "code",
   "execution_count": 22,
   "id": "9cd9a969",
   "metadata": {},
   "outputs": [
    {
     "name": "stdout",
     "output_type": "stream",
     "text": [
      "i am starting\n",
      "Hello\n",
      "i am completed\n"
     ]
    }
   ],
   "source": [
    "ida_hello()"
   ]
  },
  {
   "cell_type": "code",
   "execution_count": 26,
   "id": "49d3a3a2",
   "metadata": {},
   "outputs": [],
   "source": [
    "import logging\n",
    "\n",
    "def my_decorator(fun):\n",
    "    def wrapper(*args,**kwargs):\n",
    "        logging.info(f\"Calling the function: {fun.__name__}\")\n",
    "        result = fun(*args,**kwargs)\n",
    "        logging.info(f\"{fun.__name__} completed\")\n",
    "        return result\n",
    "    return wrapper\n",
    "\n",
    "@my_decorator\n",
    "def calculate_total_depth(segments):\n",
    "    if not segments:\n",
    "        return 0\n",
    "    else:\n",
    "        curr_seg_depth = segments[0]\n",
    "        remaining_seg = segments[1:]\n",
    "        return curr_seg_depth + calculate_total_depth(remaining_seg)\n",
    "\n"
   ]
  },
  {
   "cell_type": "code",
   "execution_count": 27,
   "id": "d8244247",
   "metadata": {},
   "outputs": [
    {
     "data": {
      "text/plain": [
       "600"
      ]
     },
     "execution_count": 27,
     "metadata": {},
     "output_type": "execute_result"
    }
   ],
   "source": [
    "calculate_total_depth([100,200,300])"
   ]
  },
  {
   "cell_type": "code",
   "execution_count": 28,
   "id": "04378c47",
   "metadata": {},
   "outputs": [],
   "source": [
    "def calculate_energy_content(composition):\n",
    "    lhv = 0\n",
    "    for gas, percentage in composition.items():\n",
    "        #LHV values for common gases(in J/Kg)\n",
    "        lhv_values = {\n",
    "            \"methane\": 50000,\n",
    "            \"ethane\": 48000,\n",
    "            \"propane\": 46000,\n",
    "            \"butane\": 45000,\n",
    "        }\n",
    "        if gas in lhv_values:\n",
    "            lhv += lhv_values[gas] * (percentage/100)\n",
    "    return lhv"
   ]
  },
  {
   "cell_type": "code",
   "execution_count": 29,
   "id": "cbcfda93",
   "metadata": {},
   "outputs": [],
   "source": [
    "gas_composition = {\"methane\": 80, \"ethane\": 10, \"propane\": 5, \"butane\": 5}"
   ]
  },
  {
   "cell_type": "code",
   "execution_count": 1,
   "id": "c091cdfd",
   "metadata": {},
   "outputs": [
    {
     "name": "stdout",
     "output_type": "stream",
     "text": [
      "abc 21\n"
     ]
    }
   ],
   "source": [
    "class Person:\n",
    "    def __init__(self, name, age):\n",
    "        self.name = name\n",
    "        self.age = age\n",
    "    \n",
    "    def greet(self):\n",
    "        return f\"Hello, my name is {self.name} and I am {self.age} years old.\"\n",
    "    \n",
    "    def have_birthday(self):\n",
    "        self.age += 1\n",
    "        return f\"Happy Birthday to {self.name}! They are now {self.age} years old.\"\n",
    "\n",
    "abc = Person(\"abc\", 21)\n",
    "print(abc.name, abc.age)"
   ]
  },
  {
   "cell_type": "code",
   "execution_count": 4,
   "id": "5aae799f",
   "metadata": {},
   "outputs": [],
   "source": [
    "class Petro_Corp:\n",
    "    def __init__(self):\n",
    "        print(\"\")\n",
    "    \n",
    "    def calculate_total_depth(self,segments):\n",
    "        if not segments:\n",
    "            return 0\n",
    "        else:\n",
    "            curr_seg_depth = segments[0]\n",
    "            remaining_seg = segments[1:]\n",
    "            return curr_seg_depth + self.calculate_total_depth(remaining_seg)\n",
    "        \n",
    "    def volume_of_gas(self,pressure, temperature, gas_constant,):\n",
    "        return (pressure * 1.0)/(gas_constant * temperature)\n",
    "    \n",
    "    def calculate_gas_mass(self,pressure, temperature, gas_constant, molar_mass):\n",
    "        volume = volume_of_gas(pressure, temperature, gas_constant)\n",
    "        return (volume * molar_mass)*1000\n",
    "    \n",
    "    def oil_production_m(self,yearly_value):\n",
    "        monthly_value = yearly_value//12\n",
    "        months = [\"jan\", \"feb\", \"mar\", \"apr\", \"may\", \"jun\", \"jul\", \"aug\", \"sep\", \"oct\", \"nov\", \"dec\"]\n",
    "        for month in months:\n",
    "            yield month, monthly_value"
   ]
  },
  {
   "cell_type": "code",
   "execution_count": 5,
   "id": "4af79d05",
   "metadata": {},
   "outputs": [
    {
     "name": "stdout",
     "output_type": "stream",
     "text": [
      "\n"
     ]
    },
    {
     "data": {
      "text/plain": [
       "6"
      ]
     },
     "execution_count": 5,
     "metadata": {},
     "output_type": "execute_result"
    }
   ],
   "source": [
    "pc = Petro_Corp()\n",
    "pc.calculate_total_depth([1,2,3])"
   ]
  },
  {
   "cell_type": "code",
   "execution_count": 6,
   "id": "a9a23b45",
   "metadata": {},
   "outputs": [
    {
     "data": {
      "text/plain": [
       "0.6013952369497233"
      ]
     },
     "execution_count": 6,
     "metadata": {},
     "output_type": "execute_result"
    }
   ],
   "source": [
    "pc.volume_of_gas(100, 20, 8.314)"
   ]
  },
  {
   "cell_type": "code",
   "execution_count": 7,
   "id": "d3642831",
   "metadata": {},
   "outputs": [
    {
     "name": "stdout",
     "output_type": "stream",
     "text": [
      "Hello\n"
     ]
    }
   ],
   "source": [
    "print(\"Hello\")"
   ]
  },
  {
   "cell_type": "code",
   "execution_count": 10,
   "id": "ae6b49d8",
   "metadata": {},
   "outputs": [
    {
     "name": "stdout",
     "output_type": "stream",
     "text": [
      "1695113710.1944788\n",
      "2023-09-19\n"
     ]
    }
   ],
   "source": [
    "import time\n",
    "curr_timestamp = time.time()\n",
    "print(curr_timestamp)\n",
    "\n",
    "test = datetime.fromtimestamp(curr_timestamp).strftime('%Y-%m-%d')\n",
    "print(test)"
   ]
  },
  {
   "cell_type": "code",
   "execution_count": 9,
   "id": "f7000689",
   "metadata": {},
   "outputs": [
    {
     "name": "stdout",
     "output_type": "stream",
     "text": [
      "2023-09-19 08:55:05.603198\n"
     ]
    }
   ],
   "source": [
    "from datetime import datetime\n",
    "curr_datetime = datetime.now()\n",
    "print(curr_datetime)"
   ]
  },
  {
   "cell_type": "code",
   "execution_count": 16,
   "id": "0def122c",
   "metadata": {},
   "outputs": [
    {
     "name": "stdout",
     "output_type": "stream",
     "text": [
      "08\n"
     ]
    }
   ],
   "source": [
    "from datetime import datetime\n",
    "curr_datetime = datetime.now().strftime('%H')\n",
    "print(curr_datetime)"
   ]
  },
  {
   "cell_type": "code",
   "execution_count": 17,
   "id": "f78e29bd",
   "metadata": {},
   "outputs": [
    {
     "name": "stdout",
     "output_type": "stream",
     "text": [
      "Sep\n"
     ]
    }
   ],
   "source": [
    "curr_datetime = datetime.now().strftime('%h')\n",
    "print(curr_datetime)"
   ]
  },
  {
   "cell_type": "code",
   "execution_count": 18,
   "id": "9e4b7c8b",
   "metadata": {},
   "outputs": [
    {
     "name": "stdout",
     "output_type": "stream",
     "text": [
      "2023\n"
     ]
    }
   ],
   "source": [
    "curr_datetime = datetime.now().strftime(\"%Y\")\n",
    "print(curr_datetime)"
   ]
  },
  {
   "cell_type": "code",
   "execution_count": 19,
   "id": "31dd5806",
   "metadata": {},
   "outputs": [
    {
     "name": "stdout",
     "output_type": "stream",
     "text": [
      "23\n"
     ]
    }
   ],
   "source": [
    "curr_datetime = datetime.now().strftime(\"%y\")\n",
    "print(curr_datetime)"
   ]
  },
  {
   "cell_type": "code",
   "execution_count": 20,
   "id": "cd06df33",
   "metadata": {},
   "outputs": [
    {
     "name": "stdout",
     "output_type": "stream",
     "text": [
      "01\n"
     ]
    }
   ],
   "source": [
    "curr_datetime = datetime.now().strftime(\"%M\")\n",
    "print(curr_datetime)"
   ]
  },
  {
   "cell_type": "code",
   "execution_count": 21,
   "id": "c0ddf6a9",
   "metadata": {},
   "outputs": [
    {
     "name": "stdout",
     "output_type": "stream",
     "text": [
      "09\n"
     ]
    }
   ],
   "source": [
    "curr_datetime = datetime.now().strftime(\"%m\")\n",
    "print(curr_datetime)"
   ]
  },
  {
   "cell_type": "code",
   "execution_count": 23,
   "id": "2436b05a",
   "metadata": {},
   "outputs": [
    {
     "name": "stdout",
     "output_type": "stream",
     "text": [
      "Error : Someone divided by zero\n"
     ]
    }
   ],
   "source": [
    "a=10\n",
    "b=0\n",
    "try:\n",
    "    result = a/b\n",
    "    print(result)\n",
    "except:\n",
    "    print(\"Error : Someone divided by zero\")"
   ]
  },
  {
   "cell_type": "code",
   "execution_count": 24,
   "id": "5a5e26ae",
   "metadata": {},
   "outputs": [
    {
     "name": "stdout",
     "output_type": "stream",
     "text": [
      "hello\n"
     ]
    }
   ],
   "source": [
    "print(\"hello\")"
   ]
  },
  {
   "cell_type": "code",
   "execution_count": 25,
   "id": "f6fe8341",
   "metadata": {},
   "outputs": [
    {
     "name": "stdout",
     "output_type": "stream",
     "text": [
      "[1, 4, 9, 16, 25]\n"
     ]
    }
   ],
   "source": [
    "a=[]\n",
    "for i in range(1,6):\n",
    "    a.append(i**2)\n",
    "print(a)"
   ]
  },
  {
   "cell_type": "code",
   "execution_count": 27,
   "id": "2330776c",
   "metadata": {},
   "outputs": [
    {
     "name": "stdout",
     "output_type": "stream",
     "text": [
      "[1, 4, 9, 16, 25]\n"
     ]
    }
   ],
   "source": [
    "a=[i**2 for i in range(1,6)]\n",
    "print(a)"
   ]
  },
  {
   "cell_type": "code",
   "execution_count": 28,
   "id": "cce274de",
   "metadata": {},
   "outputs": [
    {
     "name": "stdout",
     "output_type": "stream",
     "text": [
      "[2, 4, 6, 8]\n"
     ]
    }
   ],
   "source": [
    "even_number=[]\n",
    "for i in range(1,10):\n",
    "    if i%2 == 0:\n",
    "        even_number.append(i)\n",
    "print(even_number)"
   ]
  },
  {
   "cell_type": "code",
   "execution_count": 29,
   "id": "f4a87f80",
   "metadata": {},
   "outputs": [
    {
     "name": "stdout",
     "output_type": "stream",
     "text": [
      "[2, 4, 6, 8]\n"
     ]
    }
   ],
   "source": [
    "even_number = [i for i in range(1,10) if i%2==0]\n",
    "print(even_number)"
   ]
  },
  {
   "cell_type": "code",
   "execution_count": 31,
   "id": "1758ee08",
   "metadata": {},
   "outputs": [
    {
     "name": "stdout",
     "output_type": "stream",
     "text": [
      "11\n"
     ]
    }
   ],
   "source": [
    "add = lambda a,b : a+b\n",
    "print(add(5,6))"
   ]
  },
  {
   "cell_type": "code",
   "execution_count": null,
   "id": "a01c339f",
   "metadata": {},
   "outputs": [],
   "source": []
  }
 ],
 "metadata": {
  "kernelspec": {
   "display_name": "Python 3 (ipykernel)",
   "language": "python",
   "name": "python3"
  },
  "language_info": {
   "codemirror_mode": {
    "name": "ipython",
    "version": 3
   },
   "file_extension": ".py",
   "mimetype": "text/x-python",
   "name": "python",
   "nbconvert_exporter": "python",
   "pygments_lexer": "ipython3",
   "version": "3.11.4"
  }
 },
 "nbformat": 4,
 "nbformat_minor": 5
}
